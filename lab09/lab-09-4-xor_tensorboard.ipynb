{
 "metadata": {
  "language_info": {
   "codemirror_mode": {
    "name": "ipython",
    "version": 3
   },
   "file_extension": ".py",
   "mimetype": "text/x-python",
   "name": "python",
   "nbconvert_exporter": "python",
   "pygments_lexer": "ipython3",
   "version": "3.7.3-final"
  },
  "orig_nbformat": 2,
  "kernelspec": {
   "name": "python3",
   "display_name": "Python 3",
   "language": "python"
  }
 },
 "nbformat": 4,
 "nbformat_minor": 2,
 "cells": [
  {
   "cell_type": "code",
   "execution_count": 2,
   "metadata": {},
   "outputs": [
    {
     "output_type": "stream",
     "name": "stdout",
     "text": [
      "WARNING:tensorflow:From /Users/kakao/Library/Python/3.7/lib/python/site-packages/tensorflow/python/compat/v2_compat.py:96: disable_resource_variables (from tensorflow.python.ops.variable_scope) is deprecated and will be removed in a future version.\n",
      "Instructions for updating:\n",
      "non-resource variables are not supported in the long term\n",
      "2.4.0\n"
     ]
    }
   ],
   "source": [
    "import tensorflow.compat.v1 as tf\n",
    "import warnings\n",
    "tf.disable_v2_behavior()\n",
    "tf.set_random_seed(777)  # for reproducibility\n",
    "warnings.filterwarnings('ignore')\n",
    "print(tf.__version__)"
   ]
  },
  {
   "cell_type": "code",
   "execution_count": 3,
   "metadata": {},
   "outputs": [],
   "source": [
    "import numpy as np"
   ]
  },
  {
   "cell_type": "code",
   "execution_count": 4,
   "metadata": {},
   "outputs": [],
   "source": [
    "x_data = np.array([[0, 0], [0, 1], [1, 0], [1, 1]], dtype=np.float32)\n",
    "y_data = np.array([[0], [1], [1], [0]], dtype=np.float32)"
   ]
  },
  {
   "cell_type": "code",
   "execution_count": 5,
   "metadata": {},
   "outputs": [],
   "source": [
    "X = tf.placeholder(tf.float32, [None, 2], name=\"x\")\n",
    "Y = tf.placeholder(tf.float32, [None, 1], name=\"y\")\n",
    "\n",
    "with tf.name_scope(\"Layer1\"):\n",
    "    W1 = tf.Variable(tf.random_normal([2, 2]), name=\"weight_1\")\n",
    "    b1 = tf.Variable(tf.random_normal([2]), name=\"bias_1\")\n",
    "    layer1 = tf.sigmoid(tf.matmul(X, W1) + b1)\n",
    "\n",
    "    tf.summary.histogram(\"W1\", W1)\n",
    "    tf.summary.histogram(\"b1\", b1)\n",
    "    tf.summary.histogram(\"Layer1\", layer1)\n",
    "\n",
    "\n",
    "with tf.name_scope(\"Layer2\"):\n",
    "    W2 = tf.Variable(tf.random_normal([2, 1]), name=\"weight_2\")\n",
    "    b2 = tf.Variable(tf.random_normal([1]), name=\"bias_2\")\n",
    "    hypothesis = tf.sigmoid(tf.matmul(layer1, W2) + b2)\n",
    "\n",
    "    tf.summary.histogram(\"W2\", W2)\n",
    "    tf.summary.histogram(\"b2\", b2)\n",
    "    tf.summary.histogram(\"Hypothesis\", hypothesis)"
   ]
  },
  {
   "cell_type": "code",
   "execution_count": 6,
   "metadata": {},
   "outputs": [],
   "source": [
    "# cost/loss function\n",
    "with tf.name_scope(\"Cost\"):\n",
    "    cost = -tf.reduce_mean(Y * tf.log(hypothesis) + (1 - Y) * tf.log(1 - hypothesis))\n",
    "    tf.summary.scalar(\"Cost\", cost)\n",
    "\n",
    "with tf.name_scope(\"Train\"):\n",
    "    train = tf.train.AdamOptimizer(learning_rate=0.01).minimize(cost)"
   ]
  },
  {
   "source": [
    "# Accuracy computation\n",
    "# True if hypothesis>0.5 else False\n",
    "predicted = tf.cast(hypothesis > 0.5, dtype=tf.float32)\n",
    "accuracy = tf.reduce_mean(tf.cast(tf.equal(predicted, Y), dtype=tf.float32))\n",
    "tf.summary.scalar(\"accuracy\", accuracy)"
   ],
   "cell_type": "code",
   "metadata": {},
   "execution_count": 7,
   "outputs": [
    {
     "output_type": "execute_result",
     "data": {
      "text/plain": [
       "<tf.Tensor 'accuracy:0' shape=() dtype=string>"
      ]
     },
     "metadata": {},
     "execution_count": 7
    }
   ]
  },
  {
   "cell_type": "code",
   "execution_count": 8,
   "metadata": {},
   "outputs": [],
   "source": [
    "# Launch the graph in a session.\n",
    "sess = tf.Session()\n",
    "# Initializes global variables in the graph.\n",
    "sess.run(tf.global_variables_initializer())"
   ]
  },
  {
   "cell_type": "code",
   "execution_count": 9,
   "metadata": {},
   "outputs": [],
   "source": [
    "merged_summary = tf.summary.merge_all()\n",
    "writer = tf.summary.FileWriter(\"./teslogs/xor_logs_r0_01\")\n",
    "writer.add_graph(sess.graph)  # Show the graph\n",
    "# Initialize TensorFlow variables\n",
    "sess.run(tf.global_variables_initializer())"
   ]
  },
  {
   "cell_type": "code",
   "execution_count": 10,
   "metadata": {},
   "outputs": [
    {
     "output_type": "stream",
     "name": "stdout",
     "text": [
      "0 0.9458089\n",
      "100 0.6640444\n",
      "200 0.6141374\n",
      "300 0.53789586\n",
      "400 0.34122443\n",
      "500 0.22424422\n",
      "600 0.1624983\n",
      "700 0.12438147\n",
      "800 0.09863862\n",
      "900 0.08028249\n",
      "1000 0.066680945\n",
      "1100 0.056297295\n",
      "1200 0.048175525\n",
      "1300 0.04169313\n",
      "1400 0.036429457\n",
      "1500 0.032091863\n",
      "1600 0.02847157\n",
      "1700 0.02541596\n",
      "1800 0.022811553\n",
      "1900 0.020572213\n",
      "2000 0.018631807\n",
      "2100 0.016938727\n",
      "2200 0.015452113\n",
      "2300 0.014139455\n",
      "2400 0.012974378\n",
      "2500 0.011935441\n",
      "2600 0.01100502\n",
      "2700 0.010168565\n",
      "2800 0.009413847\n",
      "2900 0.008730612\n",
      "3000 0.008110165\n",
      "3100 0.007545186\n",
      "3200 0.0070294095\n",
      "3300 0.006557282\n",
      "3400 0.0061241705\n",
      "3500 0.005726118\n",
      "3600 0.005359417\n",
      "3700 0.005021061\n",
      "3800 0.00470829\n",
      "3900 0.0044187256\n",
      "4000 0.0041501583\n",
      "4100 0.0039008774\n",
      "4200 0.0036689956\n",
      "4300 0.0034532128\n",
      "4400 0.0032521114\n",
      "4500 0.0030643642\n",
      "4600 0.0028890371\n",
      "4700 0.00272512\n",
      "4800 0.002571695\n",
      "4900 0.00242804\n",
      "5000 0.0022933276\n",
      "5100 0.0021669418\n",
      "5200 0.0020482962\n",
      "5300 0.0019368498\n",
      "5400 0.0018320628\n",
      "5500 0.0017334248\n",
      "5600 0.00164068\n",
      "5700 0.001553304\n",
      "5800 0.0014709373\n",
      "5900 0.0013933242\n",
      "6000 0.0013201055\n",
      "6100 0.0012510566\n",
      "6200 0.0011857582\n",
      "6300 0.0011241947\n",
      "6400 0.0010660074\n",
      "6500 0.0010110015\n",
      "6600 0.00095898274\n",
      "6700 0.0009098458\n",
      "6800 0.00086330704\n",
      "6900 0.00081927644\n",
      "7000 0.0007776196\n",
      "7100 0.00073817186\n",
      "7200 0.0007007839\n",
      "7300 0.0006654108\n",
      "7400 0.0006318434\n",
      "7500 0.0006000667\n",
      "7600 0.00056996115\n",
      "7700 0.00054139236\n",
      "7800 0.00051433046\n",
      "7900 0.0004885963\n",
      "8000 0.00046429422\n",
      "8100 0.00044112583\n",
      "8200 0.00041918052\n",
      "8300 0.0003983688\n",
      "8400 0.000378616\n",
      "8500 0.0003598326\n",
      "8600 0.0003420484\n",
      "8700 0.00032515897\n",
      "8800 0.0003090897\n",
      "8900 0.00029387037\n",
      "9000 0.00027938173\n",
      "9100 0.00026560875\n",
      "9200 0.00025253656\n",
      "9300 0.00024018002\n",
      "9400 0.00022837514\n",
      "9500 0.00021716663\n",
      "9600 0.00020650972\n",
      "9700 0.0001963597\n",
      "9800 0.00018674634\n",
      "9900 0.00017763983\n",
      "10000 0.00016892095\n"
     ]
    }
   ],
   "source": [
    "for step in range(10001):\n",
    "    _, summary, cost_val = sess.run(\n",
    "        [train, merged_summary, cost], feed_dict={X: x_data, Y: y_data}\n",
    "    )\n",
    "    writer.add_summary(summary, global_step=step)\n",
    "    if step % 100 == 0:\n",
    "        print(step, cost_val)\n"
   ]
  },
  {
   "cell_type": "code",
   "execution_count": 11,
   "metadata": {},
   "outputs": [
    {
     "output_type": "stream",
     "name": "stdout",
     "text": [
      "\nHypothesis:\n[[1.5473366e-04]\n [9.9989766e-01]\n [9.9972683e-01]\n [1.4516711e-04]] \nPredicted:\n[[0.]\n [1.]\n [1.]\n [0.]] \nAccuracy:\n1.0\n"
     ]
    }
   ],
   "source": [
    "# Accuracy report\n",
    "h, p, a = sess.run(\n",
    "    [hypothesis, predicted, accuracy], feed_dict={X: x_data, Y: y_data}\n",
    ")\n",
    "\n",
    "print(f\"\\nHypothesis:\\n{h} \\nPredicted:\\n{p} \\nAccuracy:\\n{a}\")\n"
   ]
  }
 ]
}