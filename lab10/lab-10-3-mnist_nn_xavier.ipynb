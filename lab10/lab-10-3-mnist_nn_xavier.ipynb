{
 "metadata": {
  "language_info": {
   "codemirror_mode": {
    "name": "ipython",
    "version": 3
   },
   "file_extension": ".py",
   "mimetype": "text/x-python",
   "name": "python",
   "nbconvert_exporter": "python",
   "pygments_lexer": "ipython3",
   "version": "3.7.3-final"
  },
  "orig_nbformat": 2,
  "kernelspec": {
   "name": "python3",
   "display_name": "Python 3",
   "language": "python"
  }
 },
 "nbformat": 4,
 "nbformat_minor": 2,
 "cells": [
  {
   "cell_type": "code",
   "execution_count": 13,
   "metadata": {},
   "outputs": [
    {
     "output_type": "stream",
     "name": "stdout",
     "text": [
      "2.4.0\n"
     ]
    }
   ],
   "source": [
    "import tensorflow.compat.v1 as tf\n",
    "import warnings\n",
    "tf.disable_v2_behavior()\n",
    "tf.set_random_seed(777)  # for reproducibility\n",
    "warnings.filterwarnings('ignore')\n",
    "print(tf.__version__)"
   ]
  },
  {
   "cell_type": "code",
   "execution_count": 14,
   "metadata": {},
   "outputs": [],
   "source": [
    "import numpy as np\n",
    "import random\n",
    "import tensorflow as tf2 #Tensorflow 2.x"
   ]
  },
  {
   "cell_type": "code",
   "execution_count": 15,
   "metadata": {},
   "outputs": [
    {
     "output_type": "stream",
     "name": "stdout",
     "text": [
      "(60000, 28, 28)\n"
     ]
    }
   ],
   "source": [
    "mnist = tf.keras.datasets.mnist\n",
    "\n",
    "(x_train, y_train), (x_test, y_test) = mnist.load_data()\n",
    "# normalizing data\n",
    "x_train, x_test = x_train / 255.0, x_test / 255.0\n",
    "\n",
    "# change data shape\n",
    "print(x_train.shape)  # (60000, 28, 28)"
   ]
  },
  {
   "cell_type": "code",
   "execution_count": 16,
   "metadata": {},
   "outputs": [],
   "source": [
    "learning_rate = 0.001\n",
    "batch_size = 100\n",
    "training_epochs = 15\n",
    "nb_classes = 10\n",
    "num_epochs = 50\n",
    "num_iterations = 600"
   ]
  },
  {
   "cell_type": "code",
   "execution_count": 17,
   "metadata": {},
   "outputs": [],
   "source": [
    "x_train = x_train.reshape(x_train.shape[0], x_train.shape[1] * x_train.shape[2])\n",
    "x_test = x_test.reshape(x_test.shape[0], x_test.shape[1] * x_test.shape[2])\n",
    "\n",
    "y_train = tf.keras.utils.to_categorical(y_train, nb_classes)\n",
    "y_test = tf.keras.utils.to_categorical(y_test, nb_classes)\n",
    "\n",
    "#print(x_train.shape)\n",
    "#print(y_train.shape)\n",
    "#print(x_test.shape)\n",
    "#print(y_test.shape)"
   ]
  },
  {
   "cell_type": "code",
   "execution_count": 18,
   "metadata": {},
   "outputs": [],
   "source": [
    "# input place holders\n",
    "X = tf.placeholder(tf.float32, [None, 784])\n",
    "Y = tf.placeholder(tf.float32, [None, 10])\n",
    "\n",
    "# weights & bias for nn layers\n",
    "#W1 = tf.Variable(tf.random_normal([784, 256]))\n",
    "\n",
    "# Glorot normal initializer, also called Xavier normal initializer.\n",
    "init = tf2.initializers.GlorotUniform()\n",
    "W1 = tf.get_variable(\"W1\", shape=[784, 256],\n",
    "                     initializer=init)\n",
    "\n",
    "b1 = tf.Variable(tf.random_normal([256]))\n",
    "L1 = tf.nn.relu(tf.matmul(X, W1) + b1)\n",
    "\n",
    "W2 = tf.Variable(tf.random_normal([256, 256]))\n",
    "b2 = tf.Variable(tf.random_normal([256]))\n",
    "L2 = tf.nn.relu(tf.matmul(L1, W2) + b2)\n",
    "\n",
    "W3 = tf.Variable(tf.random_normal([256, 10]))\n",
    "b3 = tf.Variable(tf.random_normal([10]))\n",
    "b3 = tf.Variable(tf.random_normal([10]))"
   ]
  },
  {
   "cell_type": "code",
   "execution_count": 19,
   "metadata": {},
   "outputs": [],
   "source": [
    "hypothesis = tf.matmul(L2, W3) + b3\n",
    "\n",
    "# define cost/loss & optimizer\n",
    "cost = tf.reduce_mean(tf.nn.softmax_cross_entropy_with_logits_v2(logits=hypothesis, labels=tf.stop_gradient(Y)))\n",
    "train = tf.train.AdamOptimizer(learning_rate=learning_rate).minimize(cost)"
   ]
  },
  {
   "cell_type": "code",
   "execution_count": 20,
   "metadata": {},
   "outputs": [],
   "source": [
    "correct_prediction = tf.equal(tf.argmax(hypothesis, axis=1), tf.argmax(Y, axis=1))\n",
    "accuracy = tf.reduce_mean(tf.cast(correct_prediction, tf.float32))"
   ]
  },
  {
   "source": [
    "def next_batch(num, data, labels):\n",
    "    '''\n",
    "    Return a total of `num` random samples and labels. \n",
    "    '''\n",
    "    idx = np.arange(0 , len(data))\n",
    "    np.random.shuffle(idx)\n",
    "    idx = idx[:num]\n",
    "    data_shuffle = [data[ i] for i in idx]\n",
    "    labels_shuffle = [labels[ i] for i in idx]\n",
    "\n",
    "    return np.asarray(data_shuffle), np.asarray(labels_shuffle)"
   ],
   "cell_type": "code",
   "metadata": {},
   "execution_count": 21,
   "outputs": []
  },
  {
   "cell_type": "code",
   "execution_count": 22,
   "metadata": {},
   "outputs": [],
   "source": [
    "sess = tf.Session()\n",
    "sess.run(tf.global_variables_initializer())"
   ]
  },
  {
   "cell_type": "code",
   "execution_count": 23,
   "metadata": {},
   "outputs": [
    {
     "output_type": "stream",
     "name": "stdout",
     "text": [
      "Epoch: 0001, Cost: 3.739152383\n",
      "Epoch: 0002, Cost: 1.119229311\n",
      "Epoch: 0003, Cost: 0.825384722\n",
      "Epoch: 0004, Cost: 0.599139566\n",
      "Epoch: 0005, Cost: 0.559940449\n",
      "Epoch: 0006, Cost: 0.418215955\n",
      "Epoch: 0007, Cost: 0.376496664\n",
      "Epoch: 0008, Cost: 0.366309324\n",
      "Epoch: 0009, Cost: 0.350170818\n",
      "Epoch: 0010, Cost: 0.302069562\n",
      "Epoch: 0011, Cost: 0.263222691\n",
      "Epoch: 0012, Cost: 0.237666210\n",
      "Epoch: 0013, Cost: 0.224526918\n",
      "Epoch: 0014, Cost: 0.245777677\n",
      "Epoch: 0015, Cost: 0.193341528\n",
      "Epoch: 0016, Cost: 0.234368286\n",
      "Epoch: 0017, Cost: 0.175590704\n",
      "Epoch: 0018, Cost: 0.164785797\n",
      "Epoch: 0019, Cost: 0.164193492\n",
      "Epoch: 0020, Cost: 0.164343415\n",
      "Epoch: 0021, Cost: 0.163067238\n",
      "Epoch: 0022, Cost: 0.145080633\n",
      "Epoch: 0023, Cost: 0.163018762\n",
      "Epoch: 0024, Cost: 0.114284503\n",
      "Epoch: 0025, Cost: 0.129011649\n",
      "Epoch: 0026, Cost: 0.124921617\n",
      "Epoch: 0027, Cost: 0.126609552\n",
      "Epoch: 0028, Cost: 0.114795763\n",
      "Epoch: 0029, Cost: 0.105015152\n",
      "Epoch: 0030, Cost: 0.117095655\n",
      "Epoch: 0031, Cost: 0.102477541\n",
      "Epoch: 0032, Cost: 0.121193935\n",
      "Epoch: 0033, Cost: 0.076908393\n",
      "Epoch: 0034, Cost: 0.093740137\n",
      "Epoch: 0035, Cost: 0.090333971\n",
      "Epoch: 0036, Cost: 0.107700492\n",
      "Epoch: 0037, Cost: 0.094051606\n",
      "Epoch: 0038, Cost: 0.070000194\n",
      "Epoch: 0039, Cost: 0.088991427\n",
      "Epoch: 0040, Cost: 0.081724313\n",
      "Epoch: 0041, Cost: 0.112013187\n",
      "Epoch: 0042, Cost: 0.050346047\n",
      "Epoch: 0043, Cost: 0.071703627\n",
      "Epoch: 0044, Cost: 0.086476693\n",
      "Epoch: 0045, Cost: 0.084987893\n",
      "Epoch: 0046, Cost: 0.081349918\n",
      "Epoch: 0047, Cost: 0.069299936\n",
      "Epoch: 0048, Cost: 0.084418327\n",
      "Epoch: 0049, Cost: 0.056312818\n",
      "Epoch: 0050, Cost: 0.070488590\n",
      "Learning Finished!\n",
      "Accuracy: 0.9803\n"
     ]
    }
   ],
   "source": [
    "for epoch in range(num_epochs):\n",
    "    avg_cost = 0\n",
    "    for iteration in range(num_iterations):\n",
    "        batch_xs, batch_ys = next_batch(batch_size, x_train, y_train)\n",
    "        _, cost_val = sess.run([train, cost], feed_dict={X: batch_xs, Y: batch_ys})\n",
    "        avg_cost += cost_val / num_iterations\n",
    "    print(f\"Epoch: {(epoch + 1):04d}, Cost: {avg_cost:.9f}\")\n",
    "print(\"Learning Finished!\")\n",
    "# Test model and check accuracy\n",
    "print(\n",
    "    \"Accuracy:\",\n",
    "    sess.run(accuracy, feed_dict={X: x_test, Y: y_test}),\n",
    ")"
   ]
  },
  {
   "cell_type": "code",
   "execution_count": 24,
   "metadata": {},
   "outputs": [
    {
     "output_type": "stream",
     "name": "stdout",
     "text": [
      "# 0\n",
      "Label:  9\n",
      "Prediction:  [9]\n",
      "Accuracy:  1.0\n",
      "# 1\n",
      "Label:  3\n",
      "Prediction:  [3]\n",
      "Accuracy:  1.0\n",
      "# 2\n",
      "Label:  1\n",
      "Prediction:  [1]\n",
      "Accuracy:  1.0\n",
      "# 3\n",
      "Label:  8\n",
      "Prediction:  [8]\n",
      "Accuracy:  1.0\n",
      "# 4\n",
      "Label:  7\n",
      "Prediction:  [7]\n",
      "Accuracy:  1.0\n",
      "# 5\n",
      "Label:  2\n",
      "Prediction:  [2]\n",
      "Accuracy:  1.0\n",
      "# 6\n",
      "Label:  8\n",
      "Prediction:  [8]\n",
      "Accuracy:  1.0\n",
      "# 7\n",
      "Label:  1\n",
      "Prediction:  [1]\n",
      "Accuracy:  1.0\n",
      "# 8\n",
      "Label:  6\n",
      "Prediction:  [6]\n",
      "Accuracy:  1.0\n",
      "# 9\n",
      "Label:  0\n",
      "Prediction:  [0]\n",
      "Accuracy:  1.0\n",
      "Total Accuracy:  1.0\n"
     ]
    }
   ],
   "source": [
    "# Predict\n",
    "correct_num = 0\n",
    "\n",
    "for x in range(0, 10):\n",
    "    r = random.randint(0, x_test.shape[0]-1)\n",
    "    print(\"#\",x)\n",
    "    real=sess.run(tf.argmax(y_test[r]))\n",
    "    predict=sess.run(tf.argmax(hypothesis, axis=1), feed_dict={X: x_test[r : r + 1]})\n",
    "    print(\"Label: \",real)\n",
    "    print(\"Prediction: \",predict)\n",
    "\n",
    "    if real == predict:\n",
    "        correct_num+=1\n",
    "    print(\"Accuracy: \", correct_num/(x+1))\n",
    "\n",
    "print(\"Total Accuracy: \", correct_num/(x+1))\n"
   ]
  },
  {
   "cell_type": "code",
   "execution_count": null,
   "metadata": {},
   "outputs": [],
   "source": []
  }
 ]
}