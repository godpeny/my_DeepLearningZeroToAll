{
 "metadata": {
  "language_info": {
   "codemirror_mode": {
    "name": "ipython",
    "version": 3
   },
   "file_extension": ".py",
   "mimetype": "text/x-python",
   "name": "python",
   "nbconvert_exporter": "python",
   "pygments_lexer": "ipython3",
   "version": "3.7.3-final"
  },
  "orig_nbformat": 2,
  "kernelspec": {
   "name": "python3",
   "display_name": "Python 3",
   "language": "python"
  }
 },
 "nbformat": 4,
 "nbformat_minor": 2,
 "cells": [
  {
   "cell_type": "code",
   "execution_count": 1,
   "metadata": {},
   "outputs": [
    {
     "output_type": "stream",
     "name": "stdout",
     "text": [
      "WARNING:tensorflow:From /Users/kakao/Library/Python/3.7/lib/python/site-packages/tensorflow/python/compat/v2_compat.py:96: disable_resource_variables (from tensorflow.python.ops.variable_scope) is deprecated and will be removed in a future version.\n",
      "Instructions for updating:\n",
      "non-resource variables are not supported in the long term\n",
      "2.4.0\n"
     ]
    }
   ],
   "source": [
    "import tensorflow.compat.v1 as tf\n",
    "import warnings\n",
    "tf.disable_v2_behavior()\n",
    "tf.set_random_seed(777)  # for reproducibility\n",
    "warnings.filterwarnings('ignore')\n",
    "print(tf.__version__)"
   ]
  },
  {
   "cell_type": "code",
   "execution_count": 2,
   "metadata": {},
   "outputs": [],
   "source": [
    "import numpy as np\n",
    "import random\n",
    "import tensorflow as tf2 #Tensorflow 2.x"
   ]
  },
  {
   "cell_type": "code",
   "execution_count": 3,
   "metadata": {},
   "outputs": [
    {
     "output_type": "stream",
     "name": "stdout",
     "text": [
      "(60000, 28, 28)\n"
     ]
    }
   ],
   "source": [
    "mnist = tf.keras.datasets.mnist\n",
    "\n",
    "(x_train, y_train), (x_test, y_test) = mnist.load_data()\n",
    "# normalizing data\n",
    "x_train, x_test = x_train / 255.0, x_test / 255.0\n",
    "\n",
    "# change data shape\n",
    "print(x_train.shape)  # (60000, 28, 28)"
   ]
  },
  {
   "cell_type": "code",
   "execution_count": 4,
   "metadata": {},
   "outputs": [],
   "source": [
    "learning_rate = 0.001\n",
    "batch_size = 100\n",
    "training_epochs = 15\n",
    "nb_classes = 10\n",
    "num_epochs = 50\n",
    "num_iterations = 600"
   ]
  },
  {
   "cell_type": "code",
   "execution_count": 5,
   "metadata": {},
   "outputs": [],
   "source": [
    "x_train = x_train.reshape(x_train.shape[0], x_train.shape[1] * x_train.shape[2])\n",
    "x_test = x_test.reshape(x_test.shape[0], x_test.shape[1] * x_test.shape[2])\n",
    "\n",
    "y_train = tf.keras.utils.to_categorical(y_train, nb_classes)\n",
    "y_test = tf.keras.utils.to_categorical(y_test, nb_classes)\n",
    "\n",
    "#print(x_train.shape)\n",
    "#print(y_train.shape)\n",
    "#print(x_test.shape)\n",
    "#print(y_test.shape)"
   ]
  },
  {
   "cell_type": "code",
   "execution_count": 6,
   "metadata": {},
   "outputs": [
    {
     "output_type": "stream",
     "name": "stdout",
     "text": [
      "WARNING:tensorflow:From /Users/kakao/Library/Python/3.7/lib/python/site-packages/tensorflow/python/util/dispatch.py:201: calling dropout (from tensorflow.python.ops.nn_ops) with keep_prob is deprecated and will be removed in a future version.\nInstructions for updating:\nPlease use `rate` instead of `keep_prob`. Rate should be set to `rate = 1 - keep_prob`.\n"
     ]
    }
   ],
   "source": [
    "# input place holders\n",
    "X = tf.placeholder(tf.float32, [None, 784])\n",
    "Y = tf.placeholder(tf.float32, [None, 10])\n",
    "\n",
    "# weights & bias for nn layers\n",
    "#W1 = tf.Variable(tf.random_normal([784, 256]))\n",
    "\n",
    "keep_prob = tf.placeholder(tf.float32)\n",
    "\n",
    "# Glorot normal initializer, also called Xavier normal initializer.\n",
    "init = tf2.initializers.GlorotUniform()\n",
    "W1 = tf.get_variable(\"W1\", shape=[784, 512],\n",
    "                     initializer=init)\n",
    "\n",
    "b1 = tf.Variable(tf.random_normal([512]))\n",
    "L1 = tf.nn.relu(tf.matmul(X, W1) + b1)\n",
    "L1 = tf.nn.dropout(L1, keep_prob=keep_prob)\n",
    "\n",
    "W2 = tf.get_variable(\"W2\", shape=[512, 512],\n",
    "                     initializer=init)\n",
    "b2 = tf.Variable(tf.random_normal([512]))\n",
    "L2 = tf.nn.relu(tf.matmul(L1, W2) + b2)\n",
    "L2 = tf.nn.dropout(L2, keep_prob=keep_prob)\n",
    "\n",
    "W3 = tf.get_variable(\"W3\", shape=[512, 512],\n",
    "                     initializer=init)\n",
    "b3 = tf.Variable(tf.random_normal([512]))\n",
    "L3 = tf.nn.relu(tf.matmul(L2, W3) + b3)\n",
    "L3 = tf.nn.dropout(L3, keep_prob=keep_prob)\n",
    "\n",
    "W4 = tf.get_variable(\"W4\", shape=[512, 512],\n",
    "                     initializer=init)\n",
    "b4 = tf.Variable(tf.random_normal([512]))\n",
    "L4 = tf.nn.relu(tf.matmul(L3, W4) + b4)\n",
    "L4 = tf.nn.dropout(L4, keep_prob=keep_prob)\n",
    "\n",
    "W5 = tf.get_variable(\"W5\", shape=[512, 10],\n",
    "                     initializer=init)\n",
    "b5 = tf.Variable(tf.random_normal([10]))"
   ]
  },
  {
   "cell_type": "code",
   "execution_count": 7,
   "metadata": {},
   "outputs": [],
   "source": [
    "hypothesis = tf.matmul(L4, W5) + b5\n",
    "\n",
    "# define cost/loss & optimizer\n",
    "cost = tf.reduce_mean(tf.nn.softmax_cross_entropy_with_logits_v2(logits=hypothesis, labels=tf.stop_gradient(Y)))\n",
    "train = tf.train.AdamOptimizer(learning_rate=learning_rate).minimize(cost)"
   ]
  },
  {
   "cell_type": "code",
   "execution_count": 8,
   "metadata": {},
   "outputs": [],
   "source": [
    "correct_prediction = tf.equal(tf.argmax(hypothesis, axis=1), tf.argmax(Y, axis=1))\n",
    "accuracy = tf.reduce_mean(tf.cast(correct_prediction, tf.float32))"
   ]
  },
  {
   "source": [
    "def next_batch(num, data, labels):\n",
    "    '''\n",
    "    Return a total of `num` random samples and labels. \n",
    "    '''\n",
    "    idx = np.arange(0 , len(data))\n",
    "    np.random.shuffle(idx)\n",
    "    idx = idx[:num]\n",
    "    data_shuffle = [data[ i] for i in idx]\n",
    "    labels_shuffle = [labels[ i] for i in idx]\n",
    "\n",
    "    return np.asarray(data_shuffle), np.asarray(labels_shuffle)"
   ],
   "cell_type": "code",
   "metadata": {},
   "execution_count": 9,
   "outputs": []
  },
  {
   "cell_type": "code",
   "execution_count": 10,
   "metadata": {},
   "outputs": [],
   "source": [
    "sess = tf.Session()\n",
    "sess.run(tf.global_variables_initializer())"
   ]
  },
  {
   "cell_type": "code",
   "execution_count": 11,
   "metadata": {},
   "outputs": [
    {
     "output_type": "stream",
     "name": "stdout",
     "text": [
      "Epoch: 0001, Cost: 0.434862185\n",
      "Epoch: 0002, Cost: 0.160535965\n",
      "Epoch: 0003, Cost: 0.118981319\n",
      "Epoch: 0004, Cost: 0.099807105\n",
      "Epoch: 0005, Cost: 0.087279697\n",
      "Epoch: 0006, Cost: 0.077537858\n",
      "Epoch: 0007, Cost: 0.071789958\n",
      "Epoch: 0008, Cost: 0.063589609\n",
      "Epoch: 0009, Cost: 0.061542962\n",
      "Epoch: 0010, Cost: 0.053375779\n",
      "Epoch: 0011, Cost: 0.055632014\n",
      "Epoch: 0012, Cost: 0.049608099\n",
      "Epoch: 0013, Cost: 0.047286633\n",
      "Epoch: 0014, Cost: 0.045896992\n",
      "Epoch: 0015, Cost: 0.044382787\n",
      "Epoch: 0016, Cost: 0.042951799\n",
      "Epoch: 0017, Cost: 0.039908521\n",
      "Epoch: 0018, Cost: 0.041425163\n",
      "Epoch: 0019, Cost: 0.037230770\n",
      "Epoch: 0020, Cost: 0.038737402\n",
      "Epoch: 0021, Cost: 0.037593434\n",
      "Epoch: 0022, Cost: 0.034973617\n",
      "Epoch: 0023, Cost: 0.034986246\n",
      "Epoch: 0024, Cost: 0.034306969\n",
      "Epoch: 0025, Cost: 0.033164704\n",
      "Epoch: 0026, Cost: 0.033341510\n",
      "Epoch: 0027, Cost: 0.032722052\n",
      "Epoch: 0028, Cost: 0.031390321\n",
      "Epoch: 0029, Cost: 0.031576875\n",
      "Epoch: 0030, Cost: 0.029973103\n",
      "Epoch: 0031, Cost: 0.031672061\n",
      "Epoch: 0032, Cost: 0.032885177\n",
      "Epoch: 0033, Cost: 0.029753459\n",
      "Epoch: 0034, Cost: 0.027870624\n",
      "Epoch: 0035, Cost: 0.029836147\n",
      "Epoch: 0036, Cost: 0.029348071\n",
      "Epoch: 0037, Cost: 0.031114644\n",
      "Epoch: 0038, Cost: 0.027865481\n",
      "Epoch: 0039, Cost: 0.028663198\n",
      "Epoch: 0040, Cost: 0.027129986\n",
      "Epoch: 0041, Cost: 0.026943057\n",
      "Epoch: 0042, Cost: 0.025309886\n",
      "Epoch: 0043, Cost: 0.026578797\n",
      "Epoch: 0044, Cost: 0.026546386\n",
      "Epoch: 0045, Cost: 0.024486518\n",
      "Epoch: 0046, Cost: 0.022568857\n",
      "Epoch: 0047, Cost: 0.023790342\n",
      "Epoch: 0048, Cost: 0.024833106\n",
      "Epoch: 0049, Cost: 0.030213061\n",
      "Epoch: 0050, Cost: 0.027719700\n",
      "Learning Finished!\n",
      "Accuracy: 0.9764\n"
     ]
    }
   ],
   "source": [
    "for epoch in range(num_epochs):\n",
    "    avg_cost = 0\n",
    "    for iteration in range(num_iterations):\n",
    "        batch_xs, batch_ys = next_batch(batch_size, x_train, y_train)\n",
    "        _, cost_val = sess.run([train, cost], feed_dict={X: batch_xs, Y: batch_ys, keep_prob: 0.7})\n",
    "        avg_cost += cost_val / num_iterations\n",
    "    print(f\"Epoch: {(epoch + 1):04d}, Cost: {avg_cost:.9f}\")\n",
    "print(\"Learning Finished!\")\n",
    "# Test model and check accuracy\n",
    "print(\n",
    "    \"Accuracy:\",\n",
    "    sess.run(accuracy, feed_dict={X: x_test, Y: y_test,keep_prob: 1}),\n",
    ")"
   ]
  },
  {
   "cell_type": "code",
   "execution_count": 12,
   "metadata": {},
   "outputs": [
    {
     "output_type": "stream",
     "name": "stdout",
     "text": [
      "# 0\n",
      "Label:  1\n",
      "Prediction:  [1]\n",
      "Accuracy:  1.0\n",
      "# 1\n",
      "Label:  8\n",
      "Prediction:  [8]\n",
      "Accuracy:  1.0\n",
      "# 2\n",
      "Label:  8\n",
      "Prediction:  [8]\n",
      "Accuracy:  1.0\n",
      "# 3\n",
      "Label:  8\n",
      "Prediction:  [8]\n",
      "Accuracy:  1.0\n",
      "# 4\n",
      "Label:  6\n",
      "Prediction:  [6]\n",
      "Accuracy:  1.0\n",
      "# 5\n",
      "Label:  0\n",
      "Prediction:  [0]\n",
      "Accuracy:  1.0\n",
      "# 6\n",
      "Label:  7\n",
      "Prediction:  [7]\n",
      "Accuracy:  1.0\n",
      "# 7\n",
      "Label:  0\n",
      "Prediction:  [0]\n",
      "Accuracy:  1.0\n",
      "# 8\n",
      "Label:  7\n",
      "Prediction:  [7]\n",
      "Accuracy:  1.0\n",
      "# 9\n",
      "Label:  8\n",
      "Prediction:  [8]\n",
      "Accuracy:  1.0\n",
      "Total Accuracy:  1.0\n"
     ]
    }
   ],
   "source": [
    "# Predict\n",
    "correct_num = 0\n",
    "\n",
    "for x in range(0, 10):\n",
    "    r = random.randint(0, x_test.shape[0]-1)\n",
    "    print(\"#\",x)\n",
    "    real=sess.run(tf.argmax(y_test[r]))\n",
    "    predict=sess.run(tf.argmax(hypothesis, axis=1), feed_dict={X: x_test[r : r + 1], keep_prob: 1})\n",
    "    print(\"Label: \",real)\n",
    "    print(\"Prediction: \",predict)\n",
    "\n",
    "    if real == predict:\n",
    "        correct_num+=1\n",
    "    print(\"Accuracy: \", correct_num/(x+1))\n",
    "\n",
    "print(\"Total Accuracy: \", correct_num/(x+1))\n"
   ]
  },
  {
   "cell_type": "code",
   "execution_count": null,
   "metadata": {},
   "outputs": [],
   "source": []
  }
 ]
}