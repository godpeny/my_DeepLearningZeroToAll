{
 "metadata": {
  "language_info": {
   "codemirror_mode": {
    "name": "ipython",
    "version": 3
   },
   "file_extension": ".py",
   "mimetype": "text/x-python",
   "name": "python",
   "nbconvert_exporter": "python",
   "pygments_lexer": "ipython3",
   "version": "3.7.3-final"
  },
  "orig_nbformat": 2,
  "kernelspec": {
   "name": "python3",
   "display_name": "Python 3",
   "language": "python"
  }
 },
 "nbformat": 4,
 "nbformat_minor": 2,
 "cells": [
  {
   "cell_type": "code",
   "execution_count": 75,
   "metadata": {},
   "outputs": [
    {
     "output_type": "stream",
     "name": "stdout",
     "text": [
      "2.4.0\n"
     ]
    }
   ],
   "source": [
    "import tensorflow.compat.v1 as tf\n",
    "import warnings\n",
    "tf.disable_v2_behavior()\n",
    "tf.set_random_seed(777)  # for reproducibility\n",
    "warnings.filterwarnings('ignore')\n",
    "print(tf.__version__)"
   ]
  },
  {
   "cell_type": "code",
   "execution_count": 76,
   "metadata": {},
   "outputs": [],
   "source": [
    "import numpy as np\n",
    "import random"
   ]
  },
  {
   "cell_type": "code",
   "execution_count": 77,
   "metadata": {},
   "outputs": [
    {
     "output_type": "stream",
     "name": "stdout",
     "text": [
      "(60000, 28, 28)\n"
     ]
    }
   ],
   "source": [
    "mnist = tf.keras.datasets.mnist\n",
    "\n",
    "(x_train, y_train), (x_test, y_test) = mnist.load_data()\n",
    "# normalizing data\n",
    "x_train, x_test = x_train / 255.0, x_test / 255.0\n",
    "\n",
    "# change data shape\n",
    "print(x_train.shape)  # (60000, 28, 28)"
   ]
  },
  {
   "cell_type": "code",
   "execution_count": 78,
   "metadata": {},
   "outputs": [],
   "source": [
    "learning_rate = 0.001\n",
    "batch_size = 100\n",
    "training_epochs = 15\n",
    "nb_classes = 10\n",
    "num_epochs = 50\n",
    "num_iterations = 600"
   ]
  },
  {
   "cell_type": "code",
   "execution_count": 79,
   "metadata": {},
   "outputs": [
    {
     "output_type": "stream",
     "name": "stdout",
     "text": [
      "(60000, 784)\n(60000, 10)\n(10000, 784)\n(10000, 10)\n"
     ]
    }
   ],
   "source": [
    "x_train = x_train.reshape(x_train.shape[0], x_train.shape[1] * x_train.shape[2])\n",
    "x_test = x_test.reshape(x_test.shape[0], x_test.shape[1] * x_test.shape[2])\n",
    "\n",
    "y_train = tf.keras.utils.to_categorical(y_train, nb_classes)\n",
    "y_test = tf.keras.utils.to_categorical(y_test, nb_classes)\n",
    "\n",
    "#print(x_train.shape)\n",
    "#print(y_train.shape)\n",
    "#print(x_test.shape)\n",
    "#print(y_test.shape)"
   ]
  },
  {
   "cell_type": "code",
   "execution_count": 80,
   "metadata": {},
   "outputs": [],
   "source": [
    "# input place holders\n",
    "X = tf.placeholder(tf.float32, [None, 784])\n",
    "Y = tf.placeholder(tf.float32, [None, 10])\n",
    "\n",
    "# weights & bias for nn layers\n",
    "W = tf.Variable(tf.random_normal([784, 10]))\n",
    "b = tf.Variable(tf.random_normal([10]))"
   ]
  },
  {
   "cell_type": "code",
   "execution_count": 81,
   "metadata": {},
   "outputs": [],
   "source": [
    "hypothesis = tf.matmul(X, W) + b\n",
    "\n",
    "# define cost/loss & optimizer\n",
    "cost = tf.reduce_mean(tf.nn.softmax_cross_entropy_with_logits_v2(logits=hypothesis, labels=tf.stop_gradient(Y)))\n",
    "train = tf.train.AdamOptimizer(learning_rate=learning_rate).minimize(cost)"
   ]
  },
  {
   "cell_type": "code",
   "execution_count": 82,
   "metadata": {},
   "outputs": [],
   "source": [
    "correct_prediction = tf.equal(tf.argmax(hypothesis, axis=1), tf.argmax(Y, axis=1))\n",
    "accuracy = tf.reduce_mean(tf.cast(correct_prediction, tf.float32))"
   ]
  },
  {
   "source": [
    "def next_batch(num, data, labels):\n",
    "    '''\n",
    "    Return a total of `num` random samples and labels. \n",
    "    '''\n",
    "    idx = np.arange(0 , len(data))\n",
    "    np.random.shuffle(idx)\n",
    "    idx = idx[:num]\n",
    "    data_shuffle = [data[ i] for i in idx]\n",
    "    labels_shuffle = [labels[ i] for i in idx]\n",
    "\n",
    "    return np.asarray(data_shuffle), np.asarray(labels_shuffle)"
   ],
   "cell_type": "code",
   "metadata": {},
   "execution_count": 83,
   "outputs": []
  },
  {
   "cell_type": "code",
   "execution_count": 84,
   "metadata": {},
   "outputs": [],
   "source": [
    "sess = tf.Session()\n",
    "sess.run(tf.global_variables_initializer())"
   ]
  },
  {
   "cell_type": "code",
   "execution_count": 85,
   "metadata": {},
   "outputs": [
    {
     "output_type": "stream",
     "name": "stdout",
     "text": [
      "Epoch: 0001, Cost: 4.784944562\n",
      "Epoch: 0002, Cost: 1.532828890\n",
      "Epoch: 0003, Cost: 1.060879780\n",
      "Epoch: 0004, Cost: 0.841644441\n",
      "Epoch: 0005, Cost: 0.694426180\n",
      "Epoch: 0006, Cost: 0.634625688\n",
      "Epoch: 0007, Cost: 0.572589876\n",
      "Epoch: 0008, Cost: 0.545595166\n",
      "Epoch: 0009, Cost: 0.516431032\n",
      "Epoch: 0010, Cost: 0.481025046\n",
      "Epoch: 0011, Cost: 0.455023135\n",
      "Epoch: 0012, Cost: 0.443835472\n",
      "Epoch: 0013, Cost: 0.415610146\n",
      "Epoch: 0014, Cost: 0.411033103\n",
      "Epoch: 0015, Cost: 0.401614737\n",
      "Epoch: 0016, Cost: 0.386002523\n",
      "Epoch: 0017, Cost: 0.379863839\n",
      "Epoch: 0018, Cost: 0.377743288\n",
      "Epoch: 0019, Cost: 0.354478842\n",
      "Epoch: 0020, Cost: 0.344608640\n",
      "Epoch: 0021, Cost: 0.354475784\n",
      "Epoch: 0022, Cost: 0.344132506\n",
      "Epoch: 0023, Cost: 0.330322658\n",
      "Epoch: 0024, Cost: 0.339600304\n",
      "Epoch: 0025, Cost: 0.325357614\n",
      "Epoch: 0026, Cost: 0.319468496\n",
      "Epoch: 0027, Cost: 0.316443892\n",
      "Epoch: 0028, Cost: 0.311637764\n",
      "Epoch: 0029, Cost: 0.318563206\n",
      "Epoch: 0030, Cost: 0.309233537\n",
      "Epoch: 0031, Cost: 0.289845786\n",
      "Epoch: 0032, Cost: 0.309772181\n",
      "Epoch: 0033, Cost: 0.302498508\n",
      "Epoch: 0034, Cost: 0.296379813\n",
      "Epoch: 0035, Cost: 0.286710298\n",
      "Epoch: 0036, Cost: 0.291107732\n",
      "Epoch: 0037, Cost: 0.281699702\n",
      "Epoch: 0038, Cost: 0.277581894\n",
      "Epoch: 0039, Cost: 0.283833215\n",
      "Epoch: 0040, Cost: 0.287948049\n",
      "Epoch: 0041, Cost: 0.280415777\n",
      "Epoch: 0042, Cost: 0.267947216\n",
      "Epoch: 0043, Cost: 0.277820216\n",
      "Epoch: 0044, Cost: 0.272515178\n",
      "Epoch: 0045, Cost: 0.273437933\n",
      "Epoch: 0046, Cost: 0.262226013\n",
      "Epoch: 0047, Cost: 0.269245009\n",
      "Epoch: 0048, Cost: 0.269827493\n",
      "Epoch: 0049, Cost: 0.264266478\n",
      "Epoch: 0050, Cost: 0.266909878\n",
      "Learning Finished!\n",
      "Accuracy: 0.9187\n"
     ]
    }
   ],
   "source": [
    "for epoch in range(num_epochs):\n",
    "    avg_cost = 0\n",
    "    for iteration in range(num_iterations):\n",
    "        batch_xs, batch_ys = next_batch(batch_size, x_train, y_train)\n",
    "        _, cost_val = sess.run([train, cost], feed_dict={X: batch_xs, Y: batch_ys})\n",
    "        avg_cost += cost_val / num_iterations\n",
    "    print(f\"Epoch: {(epoch + 1):04d}, Cost: {avg_cost:.9f}\")\n",
    "print(\"Learning Finished!\")\n",
    "# Test model and check accuracy\n",
    "print(\n",
    "    \"Accuracy:\",\n",
    "    sess.run(accuracy, feed_dict={X: x_test, Y: y_test}),\n",
    ")"
   ]
  },
  {
   "cell_type": "code",
   "execution_count": 105,
   "metadata": {},
   "outputs": [
    {
     "output_type": "stream",
     "name": "stdout",
     "text": [
      "# 0\n",
      "Label:  4\n",
      "Prediction:  [3]\n",
      "Accuracy:  0.0\n",
      "# 1\n",
      "Label:  3\n",
      "Prediction:  [3]\n",
      "Accuracy:  0.5\n",
      "# 2\n",
      "Label:  0\n",
      "Prediction:  [0]\n",
      "Accuracy:  0.6666666666666666\n",
      "# 3\n",
      "Label:  6\n",
      "Prediction:  [6]\n",
      "Accuracy:  0.75\n",
      "# 4\n",
      "Label:  3\n",
      "Prediction:  [3]\n",
      "Accuracy:  0.8\n",
      "# 5\n",
      "Label:  9\n",
      "Prediction:  [9]\n",
      "Accuracy:  0.8333333333333334\n",
      "# 6\n",
      "Label:  0\n",
      "Prediction:  [0]\n",
      "Accuracy:  0.8571428571428571\n",
      "# 7\n",
      "Label:  5\n",
      "Prediction:  [5]\n",
      "Accuracy:  0.875\n",
      "# 8\n",
      "Label:  7\n",
      "Prediction:  [7]\n",
      "Accuracy:  0.8888888888888888\n",
      "# 9\n",
      "Label:  4\n",
      "Prediction:  [4]\n",
      "Accuracy:  0.9\n",
      "Total Accuracy:  0.9\n"
     ]
    }
   ],
   "source": [
    "# Predict\n",
    "correct_num = 0\n",
    "\n",
    "for x in range(0, 10):\n",
    "    r = random.randint(0, x_test.shape[0]-1)\n",
    "    print(\"#\",x)\n",
    "    real=sess.run(tf.argmax(y_test[r]))\n",
    "    predict=sess.run(tf.argmax(hypothesis, axis=1), feed_dict={X: x_test[r : r + 1]})\n",
    "    print(\"Label: \",real)\n",
    "    print(\"Prediction: \",predict)\n",
    "\n",
    "    if real == predict:\n",
    "        correct_num+=1\n",
    "    print(\"Accuracy: \", correct_num/(x+1))\n",
    "\n",
    "print(\"Total Accuracy: \", correct_num/(x+1))\n"
   ]
  },
  {
   "cell_type": "code",
   "execution_count": null,
   "metadata": {},
   "outputs": [],
   "source": []
  }
 ]
}