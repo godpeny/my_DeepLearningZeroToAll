{
 "metadata": {
  "language_info": {
   "codemirror_mode": {
    "name": "ipython",
    "version": 3
   },
   "file_extension": ".py",
   "mimetype": "text/x-python",
   "name": "python",
   "nbconvert_exporter": "python",
   "pygments_lexer": "ipython3",
   "version": "3.7.3-final"
  },
  "orig_nbformat": 2,
  "kernelspec": {
   "name": "python3",
   "display_name": "Python 3",
   "language": "python"
  }
 },
 "nbformat": 4,
 "nbformat_minor": 2,
 "cells": [
  {
   "cell_type": "code",
   "execution_count": 10,
   "metadata": {},
   "outputs": [
    {
     "output_type": "stream",
     "name": "stdout",
     "text": [
      "2.4.0\n"
     ]
    }
   ],
   "source": [
    "import tensorflow.compat.v1 as tf\n",
    "import warnings\n",
    "tf.disable_v2_behavior()\n",
    "tf.set_random_seed(777)  # for reproducibility\n",
    "warnings.filterwarnings('ignore')\n",
    "print(tf.__version__)"
   ]
  },
  {
   "cell_type": "code",
   "execution_count": 11,
   "metadata": {},
   "outputs": [],
   "source": [
    "import numpy as np"
   ]
  },
  {
   "cell_type": "code",
   "execution_count": 12,
   "metadata": {},
   "outputs": [],
   "source": [
    "xy = np.array([[828.659973, 833.450012, 908100, 828.349976, 831.659973],\n",
    "               [823.02002, 828.070007, 1828100, 821.655029, 828.070007],\n",
    "               [819.929993, 824.400024, 1438100, 818.97998, 824.159973],\n",
    "               [816, 820.958984, 1008100, 815.48999, 819.23999],\n",
    "               [819.359985, 823, 1188100, 818.469971, 818.97998],\n",
    "               [819, 823, 1198100, 816, 820.450012],\n",
    "               [811.700012, 815.25, 1098100, 809.780029, 813.669983],\n",
    "               [809.51001, 816.659973, 1398100, 804.539978, 809.559998]])\n",
    "\n",
    "x_data = xy[:, 0:-1]\n",
    "y_data = xy[:, [-1]]"
   ]
  },
  {
   "cell_type": "code",
   "execution_count": 13,
   "metadata": {},
   "outputs": [],
   "source": [
    "# placeholders for a tensor that will be always fed.\n",
    "X = tf.placeholder(tf.float32, shape=[None, 4])\n",
    "Y = tf.placeholder(tf.float32, shape=[None, 1])\n",
    "\n",
    "W = tf.Variable(tf.random_normal([4, 1]), name='weight')\n",
    "b = tf.Variable(tf.random_normal([1]), name='bias')"
   ]
  },
  {
   "cell_type": "code",
   "execution_count": 14,
   "metadata": {},
   "outputs": [],
   "source": [
    "# Hypothesis\n",
    "hypothesis = tf.matmul(X, W) + b\n",
    "\n",
    "# Simplified cost/loss function\n",
    "cost = tf.reduce_mean(tf.square(hypothesis - Y))\n",
    "\n",
    "# Minimize\n",
    "optimizer = tf.train.GradientDescentOptimizer(learning_rate=1e-5)\n",
    "train = optimizer.minimize(cost)"
   ]
  },
  {
   "cell_type": "code",
   "execution_count": 15,
   "metadata": {},
   "outputs": [],
   "source": [
    "# Launch the graph in a session.\n",
    "sess = tf.Session()\n",
    "# Initializes global variables in the graph.\n",
    "sess.run(tf.global_variables_initializer())"
   ]
  },
  {
   "cell_type": "code",
   "execution_count": 16,
   "metadata": {},
   "outputs": [
    {
     "output_type": "stream",
     "name": "stdout",
     "text": [
      "0 Cost:  468727820000.0 \nPrediction:\n [[483421.66]\n [973444.06]\n [765719.4 ]\n [536688.44]\n [632562.25]\n [637885.1 ]\n [584626.25]\n [744408.4 ]]\n1 Cost:  5.149822e+26 \nPrediction:\n [[-1.6007644e+13]\n [-3.2225028e+13]\n [-2.5350266e+13]\n [-1.7770402e+13]\n [-2.0943370e+13]\n [-2.1119646e+13]\n [-1.9356887e+13]\n [-2.4645164e+13]]\n2 Cost:  inf \nPrediction:\n [[5.3059493e+20]\n [1.0681420e+21]\n [8.4026881e+20]\n [5.8902393e+20]\n [6.9419618e+20]\n [7.0003903e+20]\n [6.4161004e+20]\n [8.1689710e+20]]\n3 Cost:  inf \nPrediction:\n [[-1.7587284e+28]\n [-3.5405008e+28]\n [-2.7851842e+28]\n [-1.9523994e+28]\n [-2.3010068e+28]\n [-2.3203740e+28]\n [-2.1267031e+28]\n [-2.7077157e+28]]\n4 Cost:  inf \nPrediction:\n [[5.8295432e+35]\n [1.1735468e+36]\n [9.2318691e+35]\n [6.4714914e+35]\n [7.6269981e+35]\n [7.6911927e+35]\n [7.0492449e+35]\n [8.9750898e+35]]\n5 Cost:  inf \nPrediction:\n [[-inf]\n [-inf]\n [-inf]\n [-inf]\n [-inf]\n [-inf]\n [-inf]\n [-inf]]\n6 Cost:  nan \nPrediction:\n [[nan]\n [nan]\n [nan]\n [nan]\n [nan]\n [nan]\n [nan]\n [nan]]\n7 Cost:  nan \nPrediction:\n [[nan]\n [nan]\n [nan]\n [nan]\n [nan]\n [nan]\n [nan]\n [nan]]\n8 Cost:  nan \nPrediction:\n [[nan]\n [nan]\n [nan]\n [nan]\n [nan]\n [nan]\n [nan]\n [nan]]\n9 Cost:  nan \nPrediction:\n [[nan]\n [nan]\n [nan]\n [nan]\n [nan]\n [nan]\n [nan]\n [nan]]\n10 Cost:  nan \nPrediction:\n [[nan]\n [nan]\n [nan]\n [nan]\n [nan]\n [nan]\n [nan]\n [nan]]\n11 Cost:  nan \nPrediction:\n [[nan]\n [nan]\n [nan]\n [nan]\n [nan]\n [nan]\n [nan]\n [nan]]\n12 Cost:  nan \nPrediction:\n [[nan]\n [nan]\n [nan]\n [nan]\n [nan]\n [nan]\n [nan]\n [nan]]\n13 Cost:  nan \nPrediction:\n [[nan]\n [nan]\n [nan]\n [nan]\n [nan]\n [nan]\n [nan]\n [nan]]\n14 Cost:  nan \nPrediction:\n [[nan]\n [nan]\n [nan]\n [nan]\n [nan]\n [nan]\n [nan]\n [nan]]\n15 Cost:  nan \nPrediction:\n [[nan]\n [nan]\n [nan]\n [nan]\n [nan]\n [nan]\n [nan]\n [nan]]\n16 Cost:  nan \nPrediction:\n [[nan]\n [nan]\n [nan]\n [nan]\n [nan]\n [nan]\n [nan]\n [nan]]\n17 Cost:  nan \nPrediction:\n [[nan]\n [nan]\n [nan]\n [nan]\n [nan]\n [nan]\n [nan]\n [nan]]\n18 Cost:  nan \nPrediction:\n [[nan]\n [nan]\n [nan]\n [nan]\n [nan]\n [nan]\n [nan]\n [nan]]\n19 Cost:  nan \nPrediction:\n [[nan]\n [nan]\n [nan]\n [nan]\n [nan]\n [nan]\n [nan]\n [nan]]\n20 Cost:  nan \nPrediction:\n [[nan]\n [nan]\n [nan]\n [nan]\n [nan]\n [nan]\n [nan]\n [nan]]\n21 Cost:  nan \nPrediction:\n [[nan]\n [nan]\n [nan]\n [nan]\n [nan]\n [nan]\n [nan]\n [nan]]\n22 Cost:  nan \nPrediction:\n [[nan]\n [nan]\n [nan]\n [nan]\n [nan]\n [nan]\n [nan]\n [nan]]\n23 Cost:  nan \nPrediction:\n [[nan]\n [nan]\n [nan]\n [nan]\n [nan]\n [nan]\n [nan]\n [nan]]\n24 Cost:  nan \nPrediction:\n [[nan]\n [nan]\n [nan]\n [nan]\n [nan]\n [nan]\n [nan]\n [nan]]\n25 Cost:  nan \nPrediction:\n [[nan]\n [nan]\n [nan]\n [nan]\n [nan]\n [nan]\n [nan]\n [nan]]\n26 Cost:  nan \nPrediction:\n [[nan]\n [nan]\n [nan]\n [nan]\n [nan]\n [nan]\n [nan]\n [nan]]\n27 Cost:  nan \nPrediction:\n [[nan]\n [nan]\n [nan]\n [nan]\n [nan]\n [nan]\n [nan]\n [nan]]\n28 Cost:  nan \nPrediction:\n [[nan]\n [nan]\n [nan]\n [nan]\n [nan]\n [nan]\n [nan]\n [nan]]\n29 Cost:  nan \nPrediction:\n [[nan]\n [nan]\n [nan]\n [nan]\n [nan]\n [nan]\n [nan]\n [nan]]\n30 Cost:  nan \nPrediction:\n [[nan]\n [nan]\n [nan]\n [nan]\n [nan]\n [nan]\n [nan]\n [nan]]\n31 Cost:  nan \nPrediction:\n [[nan]\n [nan]\n [nan]\n [nan]\n [nan]\n [nan]\n [nan]\n [nan]]\n32 Cost:  nan \nPrediction:\n [[nan]\n [nan]\n [nan]\n [nan]\n [nan]\n [nan]\n [nan]\n [nan]]\n33 Cost:  nan \nPrediction:\n [[nan]\n [nan]\n [nan]\n [nan]\n [nan]\n [nan]\n [nan]\n [nan]]\n34 Cost:  nan \nPrediction:\n [[nan]\n [nan]\n [nan]\n [nan]\n [nan]\n [nan]\n [nan]\n [nan]]\n35 Cost:  nan \nPrediction:\n [[nan]\n [nan]\n [nan]\n [nan]\n [nan]\n [nan]\n [nan]\n [nan]]\n36 Cost:  nan \nPrediction:\n [[nan]\n [nan]\n [nan]\n [nan]\n [nan]\n [nan]\n [nan]\n [nan]]\n37 Cost:  nan \nPrediction:\n [[nan]\n [nan]\n [nan]\n [nan]\n [nan]\n [nan]\n [nan]\n [nan]]\n38 Cost:  nan \nPrediction:\n [[nan]\n [nan]\n [nan]\n [nan]\n [nan]\n [nan]\n [nan]\n [nan]]\n39 Cost:  nan \nPrediction:\n [[nan]\n [nan]\n [nan]\n [nan]\n [nan]\n [nan]\n [nan]\n [nan]]\n40 Cost:  nan \nPrediction:\n [[nan]\n [nan]\n [nan]\n [nan]\n [nan]\n [nan]\n [nan]\n [nan]]\n41 Cost:  nan \nPrediction:\n [[nan]\n [nan]\n [nan]\n [nan]\n [nan]\n [nan]\n [nan]\n [nan]]\n42 Cost:  nan \nPrediction:\n [[nan]\n [nan]\n [nan]\n [nan]\n [nan]\n [nan]\n [nan]\n [nan]]\n43 Cost:  nan \nPrediction:\n [[nan]\n [nan]\n [nan]\n [nan]\n [nan]\n [nan]\n [nan]\n [nan]]\n44 Cost:  nan \nPrediction:\n [[nan]\n [nan]\n [nan]\n [nan]\n [nan]\n [nan]\n [nan]\n [nan]]\n45 Cost:  nan \nPrediction:\n [[nan]\n [nan]\n [nan]\n [nan]\n [nan]\n [nan]\n [nan]\n [nan]]\n46 Cost:  nan \nPrediction:\n [[nan]\n [nan]\n [nan]\n [nan]\n [nan]\n [nan]\n [nan]\n [nan]]\n47 Cost:  nan \nPrediction:\n [[nan]\n [nan]\n [nan]\n [nan]\n [nan]\n [nan]\n [nan]\n [nan]]\n48 Cost:  nan \nPrediction:\n [[nan]\n [nan]\n [nan]\n [nan]\n [nan]\n [nan]\n [nan]\n [nan]]\n49 Cost:  nan \nPrediction:\n [[nan]\n [nan]\n [nan]\n [nan]\n [nan]\n [nan]\n [nan]\n [nan]]\n50 Cost:  nan \nPrediction:\n [[nan]\n [nan]\n [nan]\n [nan]\n [nan]\n [nan]\n [nan]\n [nan]]\n51 Cost:  nan \nPrediction:\n [[nan]\n [nan]\n [nan]\n [nan]\n [nan]\n [nan]\n [nan]\n [nan]]\n52 Cost:  nan \nPrediction:\n [[nan]\n [nan]\n [nan]\n [nan]\n [nan]\n [nan]\n [nan]\n [nan]]\n53 Cost:  nan \nPrediction:\n [[nan]\n [nan]\n [nan]\n [nan]\n [nan]\n [nan]\n [nan]\n [nan]]\n54 Cost:  nan \nPrediction:\n [[nan]\n [nan]\n [nan]\n [nan]\n [nan]\n [nan]\n [nan]\n [nan]]\n55 Cost:  nan \nPrediction:\n [[nan]\n [nan]\n [nan]\n [nan]\n [nan]\n [nan]\n [nan]\n [nan]]\n56 Cost:  nan \nPrediction:\n [[nan]\n [nan]\n [nan]\n [nan]\n [nan]\n [nan]\n [nan]\n [nan]]\n57 Cost:  nan \nPrediction:\n [[nan]\n [nan]\n [nan]\n [nan]\n [nan]\n [nan]\n [nan]\n [nan]]\n58 Cost:  nan \nPrediction:\n [[nan]\n [nan]\n [nan]\n [nan]\n [nan]\n [nan]\n [nan]\n [nan]]\n59 Cost:  nan \nPrediction:\n [[nan]\n [nan]\n [nan]\n [nan]\n [nan]\n [nan]\n [nan]\n [nan]]\n60 Cost:  nan \nPrediction:\n [[nan]\n [nan]\n [nan]\n [nan]\n [nan]\n [nan]\n [nan]\n [nan]]\n61 Cost:  nan \nPrediction:\n [[nan]\n [nan]\n [nan]\n [nan]\n [nan]\n [nan]\n [nan]\n [nan]]\n62 Cost:  nan \nPrediction:\n [[nan]\n [nan]\n [nan]\n [nan]\n [nan]\n [nan]\n [nan]\n [nan]]\n63 Cost:  nan \nPrediction:\n [[nan]\n [nan]\n [nan]\n [nan]\n [nan]\n [nan]\n [nan]\n [nan]]\n64 Cost:  nan \nPrediction:\n [[nan]\n [nan]\n [nan]\n [nan]\n [nan]\n [nan]\n [nan]\n [nan]]\n65 Cost:  nan \nPrediction:\n [[nan]\n [nan]\n [nan]\n [nan]\n [nan]\n [nan]\n [nan]\n [nan]]\n66 Cost:  nan \nPrediction:\n [[nan]\n [nan]\n [nan]\n [nan]\n [nan]\n [nan]\n [nan]\n [nan]]\n67 Cost:  nan \nPrediction:\n [[nan]\n [nan]\n [nan]\n [nan]\n [nan]\n [nan]\n [nan]\n [nan]]\n68 Cost:  nan \nPrediction:\n [[nan]\n [nan]\n [nan]\n [nan]\n [nan]\n [nan]\n [nan]\n [nan]]\n69 Cost:  nan \nPrediction:\n [[nan]\n [nan]\n [nan]\n [nan]\n [nan]\n [nan]\n [nan]\n [nan]]\n70 Cost:  nan \nPrediction:\n [[nan]\n [nan]\n [nan]\n [nan]\n [nan]\n [nan]\n [nan]\n [nan]]\n71 Cost:  nan \nPrediction:\n [[nan]\n [nan]\n [nan]\n [nan]\n [nan]\n [nan]\n [nan]\n [nan]]\n72 Cost:  nan \nPrediction:\n [[nan]\n [nan]\n [nan]\n [nan]\n [nan]\n [nan]\n [nan]\n [nan]]\n73 Cost:  nan \nPrediction:\n [[nan]\n [nan]\n [nan]\n [nan]\n [nan]\n [nan]\n [nan]\n [nan]]\n74 Cost:  nan \nPrediction:\n [[nan]\n [nan]\n [nan]\n [nan]\n [nan]\n [nan]\n [nan]\n [nan]]\n75 Cost:  nan \nPrediction:\n [[nan]\n [nan]\n [nan]\n [nan]\n [nan]\n [nan]\n [nan]\n [nan]]\n76 Cost:  nan \nPrediction:\n [[nan]\n [nan]\n [nan]\n [nan]\n [nan]\n [nan]\n [nan]\n [nan]]\n77 Cost:  nan \nPrediction:\n [[nan]\n [nan]\n [nan]\n [nan]\n [nan]\n [nan]\n [nan]\n [nan]]\n78 Cost:  nan \nPrediction:\n [[nan]\n [nan]\n [nan]\n [nan]\n [nan]\n [nan]\n [nan]\n [nan]]\n79 Cost:  nan \nPrediction:\n [[nan]\n [nan]\n [nan]\n [nan]\n [nan]\n [nan]\n [nan]\n [nan]]\n80 Cost:  nan \nPrediction:\n [[nan]\n [nan]\n [nan]\n [nan]\n [nan]\n [nan]\n [nan]\n [nan]]\n81 Cost:  nan \nPrediction:\n [[nan]\n [nan]\n [nan]\n [nan]\n [nan]\n [nan]\n [nan]\n [nan]]\n82 Cost:  nan \nPrediction:\n [[nan]\n [nan]\n [nan]\n [nan]\n [nan]\n [nan]\n [nan]\n [nan]]\n83 Cost:  nan \nPrediction:\n [[nan]\n [nan]\n [nan]\n [nan]\n [nan]\n [nan]\n [nan]\n [nan]]\n84 Cost:  nan \nPrediction:\n [[nan]\n [nan]\n [nan]\n [nan]\n [nan]\n [nan]\n [nan]\n [nan]]\n85 Cost:  nan \nPrediction:\n [[nan]\n [nan]\n [nan]\n [nan]\n [nan]\n [nan]\n [nan]\n [nan]]\n86 Cost:  nan \nPrediction:\n [[nan]\n [nan]\n [nan]\n [nan]\n [nan]\n [nan]\n [nan]\n [nan]]\n87 Cost:  nan \nPrediction:\n [[nan]\n [nan]\n [nan]\n [nan]\n [nan]\n [nan]\n [nan]\n [nan]]\n88 Cost:  nan \nPrediction:\n [[nan]\n [nan]\n [nan]\n [nan]\n [nan]\n [nan]\n [nan]\n [nan]]\n89 Cost:  nan \nPrediction:\n [[nan]\n [nan]\n [nan]\n [nan]\n [nan]\n [nan]\n [nan]\n [nan]]\n90 Cost:  nan \nPrediction:\n [[nan]\n [nan]\n [nan]\n [nan]\n [nan]\n [nan]\n [nan]\n [nan]]\n91 Cost:  nan \nPrediction:\n [[nan]\n [nan]\n [nan]\n [nan]\n [nan]\n [nan]\n [nan]\n [nan]]\n92 Cost:  nan \nPrediction:\n [[nan]\n [nan]\n [nan]\n [nan]\n [nan]\n [nan]\n [nan]\n [nan]]\n93 Cost:  nan \nPrediction:\n [[nan]\n [nan]\n [nan]\n [nan]\n [nan]\n [nan]\n [nan]\n [nan]]\n94 Cost:  nan \nPrediction:\n [[nan]\n [nan]\n [nan]\n [nan]\n [nan]\n [nan]\n [nan]\n [nan]]\n95 Cost:  nan \nPrediction:\n [[nan]\n [nan]\n [nan]\n [nan]\n [nan]\n [nan]\n [nan]\n [nan]]\n96 Cost:  nan \nPrediction:\n [[nan]\n [nan]\n [nan]\n [nan]\n [nan]\n [nan]\n [nan]\n [nan]]\n97 Cost:  nan \nPrediction:\n [[nan]\n [nan]\n [nan]\n [nan]\n [nan]\n [nan]\n [nan]\n [nan]]\n98 Cost:  nan \nPrediction:\n [[nan]\n [nan]\n [nan]\n [nan]\n [nan]\n [nan]\n [nan]\n [nan]]\n99 Cost:  nan \nPrediction:\n [[nan]\n [nan]\n [nan]\n [nan]\n [nan]\n [nan]\n [nan]\n [nan]]\n100 Cost:  nan \nPrediction:\n [[nan]\n [nan]\n [nan]\n [nan]\n [nan]\n [nan]\n [nan]\n [nan]]\n"
     ]
    }
   ],
   "source": [
    "for step in range(101):\n",
    "    cost_val, hy_val, _ = sess.run(\n",
    "        [cost, hypothesis, train], feed_dict={X: x_data, Y: y_data})\n",
    "    print(step, \"Cost: \", cost_val, \"\\nPrediction:\\n\", hy_val)\n"
   ]
  }
 ]
}