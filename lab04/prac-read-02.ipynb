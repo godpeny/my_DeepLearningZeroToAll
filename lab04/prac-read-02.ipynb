{
 "cells": [
  {
   "cell_type": "code",
   "execution_count": 36,
   "metadata": {},
   "outputs": [
    {
     "data": {
      "text/plain": [
       "'2.4.0'"
      ]
     },
     "execution_count": 36,
     "metadata": {},
     "output_type": "execute_result"
    }
   ],
   "source": [
    "import tensorflow.compat.v1 as tf\n",
    "tf.disable_v2_behavior()\n",
    "tf.__version__"
   ]
  },
  {
   "cell_type": "code",
   "execution_count": 37,
   "metadata": {},
   "outputs": [],
   "source": [
    "filename_queue = tf.train.string_input_producer([\"11\",\"22\",\"33\"],shuffle=False)\n",
    "filename_queue2 = tf.train.string_input_producer([\"44\",\"55\",\"66\"],shuffle=True)"
   ]
  },
  {
   "cell_type": "code",
   "execution_count": 38,
   "metadata": {},
   "outputs": [],
   "source": [
    "sess = tf.Session()"
   ]
  },
  {
   "cell_type": "code",
   "execution_count": 39,
   "metadata": {},
   "outputs": [],
   "source": [
    "coord = tf.train.Coordinator()\n",
    "threads = tf.train.start_queue_runners(coord=coord,sess=sess)\n",
    "threads2 = tf.train.start_queue_runners(coord=coord,sess=sess)"
   ]
  },
  {
   "cell_type": "code",
   "execution_count": 40,
   "metadata": {},
   "outputs": [
    {
     "name": "stdout",
     "output_type": "stream",
     "text": [
      "b'11'\n",
      "b'44'\n",
      "b'22'\n",
      "b'66'\n",
      "b'33'\n",
      "b'55'\n",
      "b'11'\n",
      "b'55'\n",
      "b'22'\n",
      "b'44'\n",
      "b'33'\n",
      "b'66'\n",
      "b'11'\n",
      "b'55'\n",
      "b'22'\n",
      "b'66'\n",
      "b'33'\n",
      "b'44'\n",
      "b'11'\n",
      "b'55'\n"
     ]
    }
   ],
   "source": [
    "for step in range(10):\n",
    "    print(sess.run(filename_queue.dequeue()) )\n",
    "    print(sess.run(filename_queue2.dequeue()) )"
   ]
  },
  {
   "cell_type": "code",
   "execution_count": 41,
   "metadata": {},
   "outputs": [],
   "source": [
    "coord.request_stop()\n",
    "coord.join(threads)"
   ]
  },
  {
   "cell_type": "code",
   "execution_count": 42,
   "metadata": {},
   "outputs": [],
   "source": [
    "sess.close()"
   ]
  }
 ],
 "metadata": {
  "kernelspec": {
   "display_name": "Python 3",
   "language": "python",
   "name": "python3"
  },
  "language_info": {
   "codemirror_mode": {
    "name": "ipython",
    "version": 3
   },
   "file_extension": ".py",
   "mimetype": "text/x-python",
   "name": "python",
   "nbconvert_exporter": "python",
   "pygments_lexer": "ipython3",
   "version": "3.7.3"
  }
 },
 "nbformat": 4,
 "nbformat_minor": 4
}
