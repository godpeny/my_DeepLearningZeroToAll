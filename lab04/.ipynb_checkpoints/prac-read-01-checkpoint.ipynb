{
 "cells": [
  {
   "cell_type": "code",
   "execution_count": 17,
   "metadata": {},
   "outputs": [
    {
     "data": {
      "text/plain": [
       "'2.4.0'"
      ]
     },
     "execution_count": 17,
     "metadata": {},
     "output_type": "execute_result"
    }
   ],
   "source": [
    "import tensorflow.compat.v1 as tf\n",
    "tf.disable_v2_behavior()\n",
    "tf.__version__"
   ]
  },
  {
   "cell_type": "code",
   "execution_count": 22,
   "metadata": {},
   "outputs": [
    {
     "name": "stdout",
     "output_type": "stream",
     "text": [
      "1.0\n",
      "2.0\n",
      "3.0\n",
      "4.0\n",
      "5.0\n",
      "1.0\n",
      "2.0\n",
      "3.0\n",
      "4.0\n",
      "5.0\n",
      "1.1\n",
      "2.1\n",
      "3.1\n",
      "4.1\n",
      "1.0\n",
      "2.0\n",
      "3.0\n",
      "4.0\n",
      "5.0\n",
      "1.0\n",
      "2.0\n",
      "3.0\n",
      "4.0\n",
      "5.0\n",
      "1.1\n",
      "2.1\n",
      "3.1\n",
      "4.1\n",
      "1.0\n",
      "2.0\n",
      "3.0\n",
      "4.0\n",
      "5.0\n",
      "1.0\n",
      "2.0\n",
      "3.0\n",
      "4.0\n",
      "5.0\n",
      "1.1\n",
      "2.1\n",
      "3.1\n",
      "4.1\n",
      "1.0\n",
      "2.0\n",
      "3.0\n",
      "4.0\n",
      "5.0\n",
      "1.0\n",
      "2.0\n",
      "3.0\n"
     ]
    }
   ],
   "source": [
    "QUEUE_LENGTH = 3\n",
    "\n",
    "q = tf.FIFOQueue(QUEUE_LENGTH,\"float\")\n",
    "\n",
    "enq_ops = q.enqueue_many(([1.0,2.0,3.0,4.0,5.0],) )\n",
    "enq_ops2 = q.enqueue_many(([1.1,2.1,3.1,4.1],) )\n",
    "\n",
    "qr = tf.train.QueueRunner(q,[enq_ops,enq_ops,enq_ops2])\n",
    "\n",
    "\n",
    "\n",
    "sess = tf.Session()\n",
    "\n",
    "# Create a coordinator, launch the queue runner threads.\n",
    "\n",
    "coord = tf.train.Coordinator()\n",
    "\n",
    "threads = qr.create_threads(sess, coord=coord, start=True)\n",
    "\n",
    "\n",
    "\n",
    "for step in range(50):\n",
    "\n",
    "    print(sess.run(q.dequeue()))\n",
    "\n",
    "\n",
    "\n",
    "coord.request_stop()\n",
    "\n",
    "coord.join(threads)\n",
    "\n",
    "\n",
    "\n",
    "sess.close()"
   ]
  },
  {
   "cell_type": "code",
   "execution_count": null,
   "metadata": {},
   "outputs": [],
   "source": []
  }
 ],
 "metadata": {
  "kernelspec": {
   "display_name": "Python 3",
   "language": "python",
   "name": "python3"
  },
  "language_info": {
   "codemirror_mode": {
    "name": "ipython",
    "version": 3
   },
   "file_extension": ".py",
   "mimetype": "text/x-python",
   "name": "python",
   "nbconvert_exporter": "python",
   "pygments_lexer": "ipython3",
   "version": "3.7.3"
  }
 },
 "nbformat": 4,
 "nbformat_minor": 4
}
