{
 "cells": [
  {
   "cell_type": "code",
   "execution_count": 1,
   "metadata": {},
   "outputs": [
    {
     "name": "stdout",
     "output_type": "stream",
     "text": [
      "WARNING:tensorflow:From /Users/kakao/Library/Python/3.7/lib/python/site-packages/tensorflow/python/compat/v2_compat.py:96: disable_resource_variables (from tensorflow.python.ops.variable_scope) is deprecated and will be removed in a future version.\n",
      "Instructions for updating:\n",
      "non-resource variables are not supported in the long term\n"
     ]
    },
    {
     "data": {
      "text/plain": [
       "'2.4.0'"
      ]
     },
     "execution_count": 1,
     "metadata": {},
     "output_type": "execute_result"
    }
   ],
   "source": [
    "import tensorflow.compat.v1 as tf\n",
    "tf.disable_v2_behavior()\n",
    "tf.__version__"
   ]
  },
  {
   "cell_type": "code",
   "execution_count": 2,
   "metadata": {},
   "outputs": [],
   "source": [
    "from numpy.random.mtrand import shuffle"
   ]
  },
  {
   "cell_type": "code",
   "execution_count": 3,
   "metadata": {},
   "outputs": [
    {
     "name": "stdout",
     "output_type": "stream",
     "text": [
      "WARNING:tensorflow:From <ipython-input-3-67c3fd8fee2f>:2: string_input_producer (from tensorflow.python.training.input) is deprecated and will be removed in a future version.\n",
      "Instructions for updating:\n",
      "Queue-based input pipelines have been replaced by `tf.data`. Use `tf.data.Dataset.from_tensor_slices(string_tensor).shuffle(tf.shape(input_tensor, out_type=tf.int64)[0]).repeat(num_epochs)`. If `shuffle=False`, omit the `.shuffle(...)`.\n",
      "WARNING:tensorflow:From /Users/kakao/Library/Python/3.7/lib/python/site-packages/tensorflow/python/training/input.py:277: input_producer (from tensorflow.python.training.input) is deprecated and will be removed in a future version.\n",
      "Instructions for updating:\n",
      "Queue-based input pipelines have been replaced by `tf.data`. Use `tf.data.Dataset.from_tensor_slices(input_tensor).shuffle(tf.shape(input_tensor, out_type=tf.int64)[0]).repeat(num_epochs)`. If `shuffle=False`, omit the `.shuffle(...)`.\n",
      "WARNING:tensorflow:From /Users/kakao/Library/Python/3.7/lib/python/site-packages/tensorflow/python/training/input.py:189: limit_epochs (from tensorflow.python.training.input) is deprecated and will be removed in a future version.\n",
      "Instructions for updating:\n",
      "Queue-based input pipelines have been replaced by `tf.data`. Use `tf.data.Dataset.from_tensors(tensor).repeat(num_epochs)`.\n",
      "WARNING:tensorflow:From /Users/kakao/Library/Python/3.7/lib/python/site-packages/tensorflow/python/training/input.py:198: QueueRunner.__init__ (from tensorflow.python.training.queue_runner_impl) is deprecated and will be removed in a future version.\n",
      "Instructions for updating:\n",
      "To construct input pipelines, use the `tf.data` module.\n",
      "WARNING:tensorflow:From /Users/kakao/Library/Python/3.7/lib/python/site-packages/tensorflow/python/training/input.py:198: add_queue_runner (from tensorflow.python.training.queue_runner_impl) is deprecated and will be removed in a future version.\n",
      "Instructions for updating:\n",
      "To construct input pipelines, use the `tf.data` module.\n"
     ]
    }
   ],
   "source": [
    "#define filename queue\n",
    "filename_queue = tf.train.string_input_producer(['data-prac-01.txt','data-prac-02.txt'],shuffle=False,name='filename_queue')"
   ]
  },
  {
   "cell_type": "code",
   "execution_count": 4,
   "metadata": {},
   "outputs": [
    {
     "name": "stdout",
     "output_type": "stream",
     "text": [
      "WARNING:tensorflow:From <ipython-input-4-7006d90189fd>:2: TextLineReader.__init__ (from tensorflow.python.ops.io_ops) is deprecated and will be removed in a future version.\n",
      "Instructions for updating:\n",
      "Queue-based input pipelines have been replaced by `tf.data`. Use `tf.data.TextLineDataset`.\n"
     ]
    }
   ],
   "source": [
    "# define reader\n",
    "reader = tf.TextLineReader()\n",
    "key,value = reader.read(filename_queue)"
   ]
  },
  {
   "cell_type": "code",
   "execution_count": 5,
   "metadata": {},
   "outputs": [],
   "source": [
    "#define decoder\n",
    "record_defaults = [ [\"null\"],[1],[1900],[\"null\"],[\"null\"]]\n",
    "id, num, year, rtype , rtime = tf.decode_csv(value, record_defaults=record_defaults,field_delim=',')"
   ]
  },
  {
   "cell_type": "code",
   "execution_count": 6,
   "metadata": {},
   "outputs": [],
   "source": [
    "sess = tf.Session()"
   ]
  },
  {
   "cell_type": "code",
   "execution_count": 7,
   "metadata": {},
   "outputs": [
    {
     "name": "stdout",
     "output_type": "stream",
     "text": [
      "WARNING:tensorflow:From <ipython-input-7-b1b900c2409e>:2: start_queue_runners (from tensorflow.python.training.queue_runner_impl) is deprecated and will be removed in a future version.\n",
      "Instructions for updating:\n",
      "To construct input pipelines, use the `tf.data` module.\n"
     ]
    }
   ],
   "source": [
    "coord = tf.train.Coordinator()\n",
    "threads = tf.train.start_queue_runners(sess=sess, coord=coord)"
   ]
  },
  {
   "cell_type": "code",
   "execution_count": 8,
   "metadata": {},
   "outputs": [
    {
     "name": "stdout",
     "output_type": "stream",
     "text": [
      "[b'167c9599-c97d-4d42-bdb1-027ddaed07c0', 1, 2016, b'REG', b'3:54']\n",
      "[b'67ea7e52-333e-43f3-a668-6d7893baa8fb', 1, 2016, b'REG', b'2:11']\n",
      "[b'9e44593b-a870-446e-aed5-90a22ab0c952', 1, 2016, b'REG', b'2:32']\n",
      "[b'48832a52-e56c-467f-a1ef-c6f8c6e908ea', 1, 2016, b'REG', b'2:17']\n",
      "[b'aa7c9599-c97d-4d42-bdb1-027ddaed07c0', 1, 2021, b'REG', b'3:54']\n",
      "[b'bbea7e52-333e-43f3-a668-6d7893baa8fb', 1, 2021, b'REG', b'2:11']\n",
      "[b'9e44593b-a870-446e-aed5-90a22ab0c952', 1, 2021, b'REG', b'2:32']\n",
      "[b'cc832a52-e56c-467f-a1ef-c6f8c6e908ea', 1, 2021, b'REG', b'2:17']\n",
      "[b'167c9599-c97d-4d42-bdb1-027ddaed07c0', 1, 2016, b'REG', b'3:54']\n",
      "[b'67ea7e52-333e-43f3-a668-6d7893baa8fb', 1, 2016, b'REG', b'2:11']\n",
      "[b'9e44593b-a870-446e-aed5-90a22ab0c952', 1, 2016, b'REG', b'2:32']\n",
      "[b'48832a52-e56c-467f-a1ef-c6f8c6e908ea', 1, 2016, b'REG', b'2:17']\n",
      "[b'aa7c9599-c97d-4d42-bdb1-027ddaed07c0', 1, 2021, b'REG', b'3:54']\n",
      "[b'bbea7e52-333e-43f3-a668-6d7893baa8fb', 1, 2021, b'REG', b'2:11']\n",
      "[b'9e44593b-a870-446e-aed5-90a22ab0c952', 1, 2021, b'REG', b'2:32']\n",
      "[b'cc832a52-e56c-467f-a1ef-c6f8c6e908ea', 1, 2021, b'REG', b'2:17']\n",
      "[b'167c9599-c97d-4d42-bdb1-027ddaed07c0', 1, 2016, b'REG', b'3:54']\n",
      "[b'67ea7e52-333e-43f3-a668-6d7893baa8fb', 1, 2016, b'REG', b'2:11']\n",
      "[b'9e44593b-a870-446e-aed5-90a22ab0c952', 1, 2016, b'REG', b'2:32']\n",
      "[b'48832a52-e56c-467f-a1ef-c6f8c6e908ea', 1, 2016, b'REG', b'2:17']\n",
      "[b'aa7c9599-c97d-4d42-bdb1-027ddaed07c0', 1, 2021, b'REG', b'3:54']\n",
      "[b'bbea7e52-333e-43f3-a668-6d7893baa8fb', 1, 2021, b'REG', b'2:11']\n",
      "[b'9e44593b-a870-446e-aed5-90a22ab0c952', 1, 2021, b'REG', b'2:32']\n",
      "[b'cc832a52-e56c-467f-a1ef-c6f8c6e908ea', 1, 2021, b'REG', b'2:17']\n",
      "[b'167c9599-c97d-4d42-bdb1-027ddaed07c0', 1, 2016, b'REG', b'3:54']\n",
      "[b'67ea7e52-333e-43f3-a668-6d7893baa8fb', 1, 2016, b'REG', b'2:11']\n",
      "[b'9e44593b-a870-446e-aed5-90a22ab0c952', 1, 2016, b'REG', b'2:32']\n",
      "[b'48832a52-e56c-467f-a1ef-c6f8c6e908ea', 1, 2016, b'REG', b'2:17']\n",
      "[b'aa7c9599-c97d-4d42-bdb1-027ddaed07c0', 1, 2021, b'REG', b'3:54']\n",
      "[b'bbea7e52-333e-43f3-a668-6d7893baa8fb', 1, 2021, b'REG', b'2:11']\n",
      "[b'9e44593b-a870-446e-aed5-90a22ab0c952', 1, 2021, b'REG', b'2:32']\n",
      "[b'cc832a52-e56c-467f-a1ef-c6f8c6e908ea', 1, 2021, b'REG', b'2:17']\n",
      "[b'167c9599-c97d-4d42-bdb1-027ddaed07c0', 1, 2016, b'REG', b'3:54']\n",
      "[b'67ea7e52-333e-43f3-a668-6d7893baa8fb', 1, 2016, b'REG', b'2:11']\n",
      "[b'9e44593b-a870-446e-aed5-90a22ab0c952', 1, 2016, b'REG', b'2:32']\n",
      "[b'48832a52-e56c-467f-a1ef-c6f8c6e908ea', 1, 2016, b'REG', b'2:17']\n",
      "[b'aa7c9599-c97d-4d42-bdb1-027ddaed07c0', 1, 2021, b'REG', b'3:54']\n",
      "[b'bbea7e52-333e-43f3-a668-6d7893baa8fb', 1, 2021, b'REG', b'2:11']\n",
      "[b'9e44593b-a870-446e-aed5-90a22ab0c952', 1, 2021, b'REG', b'2:32']\n",
      "[b'cc832a52-e56c-467f-a1ef-c6f8c6e908ea', 1, 2021, b'REG', b'2:17']\n",
      "[b'167c9599-c97d-4d42-bdb1-027ddaed07c0', 1, 2016, b'REG', b'3:54']\n",
      "[b'67ea7e52-333e-43f3-a668-6d7893baa8fb', 1, 2016, b'REG', b'2:11']\n",
      "[b'9e44593b-a870-446e-aed5-90a22ab0c952', 1, 2016, b'REG', b'2:32']\n",
      "[b'48832a52-e56c-467f-a1ef-c6f8c6e908ea', 1, 2016, b'REG', b'2:17']\n",
      "[b'aa7c9599-c97d-4d42-bdb1-027ddaed07c0', 1, 2021, b'REG', b'3:54']\n",
      "[b'bbea7e52-333e-43f3-a668-6d7893baa8fb', 1, 2021, b'REG', b'2:11']\n",
      "[b'9e44593b-a870-446e-aed5-90a22ab0c952', 1, 2021, b'REG', b'2:32']\n",
      "[b'cc832a52-e56c-467f-a1ef-c6f8c6e908ea', 1, 2021, b'REG', b'2:17']\n",
      "[b'167c9599-c97d-4d42-bdb1-027ddaed07c0', 1, 2016, b'REG', b'3:54']\n",
      "[b'67ea7e52-333e-43f3-a668-6d7893baa8fb', 1, 2016, b'REG', b'2:11']\n",
      "[b'9e44593b-a870-446e-aed5-90a22ab0c952', 1, 2016, b'REG', b'2:32']\n",
      "[b'48832a52-e56c-467f-a1ef-c6f8c6e908ea', 1, 2016, b'REG', b'2:17']\n",
      "[b'aa7c9599-c97d-4d42-bdb1-027ddaed07c0', 1, 2021, b'REG', b'3:54']\n",
      "[b'bbea7e52-333e-43f3-a668-6d7893baa8fb', 1, 2021, b'REG', b'2:11']\n",
      "[b'9e44593b-a870-446e-aed5-90a22ab0c952', 1, 2021, b'REG', b'2:32']\n",
      "[b'cc832a52-e56c-467f-a1ef-c6f8c6e908ea', 1, 2021, b'REG', b'2:17']\n",
      "[b'167c9599-c97d-4d42-bdb1-027ddaed07c0', 1, 2016, b'REG', b'3:54']\n",
      "[b'67ea7e52-333e-43f3-a668-6d7893baa8fb', 1, 2016, b'REG', b'2:11']\n",
      "[b'9e44593b-a870-446e-aed5-90a22ab0c952', 1, 2016, b'REG', b'2:32']\n",
      "[b'48832a52-e56c-467f-a1ef-c6f8c6e908ea', 1, 2016, b'REG', b'2:17']\n",
      "[b'aa7c9599-c97d-4d42-bdb1-027ddaed07c0', 1, 2021, b'REG', b'3:54']\n",
      "[b'bbea7e52-333e-43f3-a668-6d7893baa8fb', 1, 2021, b'REG', b'2:11']\n",
      "[b'9e44593b-a870-446e-aed5-90a22ab0c952', 1, 2021, b'REG', b'2:32']\n",
      "[b'cc832a52-e56c-467f-a1ef-c6f8c6e908ea', 1, 2021, b'REG', b'2:17']\n",
      "[b'167c9599-c97d-4d42-bdb1-027ddaed07c0', 1, 2016, b'REG', b'3:54']\n",
      "[b'67ea7e52-333e-43f3-a668-6d7893baa8fb', 1, 2016, b'REG', b'2:11']\n",
      "[b'9e44593b-a870-446e-aed5-90a22ab0c952', 1, 2016, b'REG', b'2:32']\n",
      "[b'48832a52-e56c-467f-a1ef-c6f8c6e908ea', 1, 2016, b'REG', b'2:17']\n",
      "[b'aa7c9599-c97d-4d42-bdb1-027ddaed07c0', 1, 2021, b'REG', b'3:54']\n",
      "[b'bbea7e52-333e-43f3-a668-6d7893baa8fb', 1, 2021, b'REG', b'2:11']\n",
      "[b'9e44593b-a870-446e-aed5-90a22ab0c952', 1, 2021, b'REG', b'2:32']\n",
      "[b'cc832a52-e56c-467f-a1ef-c6f8c6e908ea', 1, 2021, b'REG', b'2:17']\n",
      "[b'167c9599-c97d-4d42-bdb1-027ddaed07c0', 1, 2016, b'REG', b'3:54']\n",
      "[b'67ea7e52-333e-43f3-a668-6d7893baa8fb', 1, 2016, b'REG', b'2:11']\n",
      "[b'9e44593b-a870-446e-aed5-90a22ab0c952', 1, 2016, b'REG', b'2:32']\n",
      "[b'48832a52-e56c-467f-a1ef-c6f8c6e908ea', 1, 2016, b'REG', b'2:17']\n",
      "[b'aa7c9599-c97d-4d42-bdb1-027ddaed07c0', 1, 2021, b'REG', b'3:54']\n",
      "[b'bbea7e52-333e-43f3-a668-6d7893baa8fb', 1, 2021, b'REG', b'2:11']\n",
      "[b'9e44593b-a870-446e-aed5-90a22ab0c952', 1, 2021, b'REG', b'2:32']\n",
      "[b'cc832a52-e56c-467f-a1ef-c6f8c6e908ea', 1, 2021, b'REG', b'2:17']\n",
      "[b'167c9599-c97d-4d42-bdb1-027ddaed07c0', 1, 2016, b'REG', b'3:54']\n",
      "[b'67ea7e52-333e-43f3-a668-6d7893baa8fb', 1, 2016, b'REG', b'2:11']\n",
      "[b'9e44593b-a870-446e-aed5-90a22ab0c952', 1, 2016, b'REG', b'2:32']\n",
      "[b'48832a52-e56c-467f-a1ef-c6f8c6e908ea', 1, 2016, b'REG', b'2:17']\n",
      "[b'aa7c9599-c97d-4d42-bdb1-027ddaed07c0', 1, 2021, b'REG', b'3:54']\n",
      "[b'bbea7e52-333e-43f3-a668-6d7893baa8fb', 1, 2021, b'REG', b'2:11']\n",
      "[b'9e44593b-a870-446e-aed5-90a22ab0c952', 1, 2021, b'REG', b'2:32']\n",
      "[b'cc832a52-e56c-467f-a1ef-c6f8c6e908ea', 1, 2021, b'REG', b'2:17']\n",
      "[b'167c9599-c97d-4d42-bdb1-027ddaed07c0', 1, 2016, b'REG', b'3:54']\n",
      "[b'67ea7e52-333e-43f3-a668-6d7893baa8fb', 1, 2016, b'REG', b'2:11']\n",
      "[b'9e44593b-a870-446e-aed5-90a22ab0c952', 1, 2016, b'REG', b'2:32']\n",
      "[b'48832a52-e56c-467f-a1ef-c6f8c6e908ea', 1, 2016, b'REG', b'2:17']\n",
      "[b'aa7c9599-c97d-4d42-bdb1-027ddaed07c0', 1, 2021, b'REG', b'3:54']\n",
      "[b'bbea7e52-333e-43f3-a668-6d7893baa8fb', 1, 2021, b'REG', b'2:11']\n",
      "[b'9e44593b-a870-446e-aed5-90a22ab0c952', 1, 2021, b'REG', b'2:32']\n",
      "[b'cc832a52-e56c-467f-a1ef-c6f8c6e908ea', 1, 2021, b'REG', b'2:17']\n",
      "[b'167c9599-c97d-4d42-bdb1-027ddaed07c0', 1, 2016, b'REG', b'3:54']\n",
      "[b'67ea7e52-333e-43f3-a668-6d7893baa8fb', 1, 2016, b'REG', b'2:11']\n",
      "[b'9e44593b-a870-446e-aed5-90a22ab0c952', 1, 2016, b'REG', b'2:32']\n",
      "[b'48832a52-e56c-467f-a1ef-c6f8c6e908ea', 1, 2016, b'REG', b'2:17']\n"
     ]
    }
   ],
   "source": [
    "for i in range(100):\n",
    "    print(sess.run([id, num, year, rtype , rtime]))"
   ]
  },
  {
   "cell_type": "code",
   "execution_count": 9,
   "metadata": {},
   "outputs": [],
   "source": [
    "coord.request_stop()\n",
    "coord.join(threads)\n",
    "sess.close()"
   ]
  },
  {
   "cell_type": "code",
   "execution_count": null,
   "metadata": {},
   "outputs": [],
   "source": []
  }
 ],
 "metadata": {
  "kernelspec": {
   "display_name": "Python 3",
   "language": "python",
   "name": "python3"
  },
  "language_info": {
   "codemirror_mode": {
    "name": "ipython",
    "version": 3
   },
   "file_extension": ".py",
   "mimetype": "text/x-python",
   "name": "python",
   "nbconvert_exporter": "python",
   "pygments_lexer": "ipython3",
   "version": "3.7.3"
  }
 },
 "nbformat": 4,
 "nbformat_minor": 4
}
