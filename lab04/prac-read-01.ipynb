{
 "cells": [
  {
   "cell_type": "code",
   "execution_count": null,
   "metadata": {},
   "outputs": [],
   "source": [
    "# https://bcho.tistory.com/1163?category=555440"
   ]
  },
  {
   "cell_type": "code",
   "execution_count": 23,
   "metadata": {},
   "outputs": [
    {
     "data": {
      "text/plain": [
       "'2.4.0'"
      ]
     },
     "execution_count": 23,
     "metadata": {},
     "output_type": "execute_result"
    }
   ],
   "source": [
    "import tensorflow.compat.v1 as tf\n",
    "tf.disable_v2_behavior()\n",
    "tf.__version__"
   ]
  },
  {
   "cell_type": "code",
   "execution_count": 24,
   "metadata": {},
   "outputs": [],
   "source": [
    "QUEUE_LENGTH = 3\n",
    "q = tf.FIFOQueue(QUEUE_LENGTH,\"float\")"
   ]
  },
  {
   "cell_type": "code",
   "execution_count": 25,
   "metadata": {},
   "outputs": [],
   "source": [
    "enq_ops = q.enqueue_many(([1.0,2.0,3.0,4.0,5.0],) )\n",
    "enq_ops2 = q.enqueue_many(([1.1,2.1,3.1,4.1],) )\n",
    "enq_ops3 = q.enqueue_many(([11.2,22.1,33.0,44.0],) )\n",
    "\n",
    "qr = tf.train.QueueRunner(q,[enq_ops3,enq_ops,enq_ops2])"
   ]
  },
  {
   "cell_type": "code",
   "execution_count": 26,
   "metadata": {},
   "outputs": [],
   "source": [
    "sess = tf.Session()"
   ]
  },
  {
   "cell_type": "code",
   "execution_count": 27,
   "metadata": {},
   "outputs": [],
   "source": [
    "# Create a coordinator, launch the queue runner threads.\n",
    "coord = tf.train.Coordinator()\n",
    "threads = qr.create_threads(sess, coord=coord, start=True)"
   ]
  },
  {
   "cell_type": "code",
   "execution_count": 28,
   "metadata": {},
   "outputs": [
    {
     "name": "stdout",
     "output_type": "stream",
     "text": [
      "11.2\n",
      "22.1\n",
      "33.0\n",
      "44.0\n",
      "1.0\n",
      "2.0\n",
      "3.0\n",
      "4.0\n",
      "5.0\n",
      "1.1\n",
      "2.1\n",
      "3.1\n",
      "4.1\n",
      "11.2\n",
      "22.1\n",
      "33.0\n",
      "44.0\n",
      "1.0\n",
      "2.0\n",
      "3.0\n",
      "4.0\n",
      "5.0\n",
      "1.1\n",
      "2.1\n",
      "3.1\n",
      "4.1\n",
      "11.2\n",
      "22.1\n",
      "33.0\n",
      "44.0\n",
      "1.0\n",
      "2.0\n",
      "3.0\n",
      "4.0\n",
      "5.0\n",
      "1.1\n",
      "2.1\n",
      "3.1\n",
      "4.1\n",
      "11.2\n",
      "22.1\n",
      "33.0\n",
      "44.0\n",
      "1.0\n",
      "2.0\n",
      "3.0\n",
      "4.0\n",
      "5.0\n",
      "1.1\n",
      "2.1\n"
     ]
    }
   ],
   "source": [
    "for step in range(50):\n",
    "    print(sess.run(q.dequeue()))\n",
    "    "
   ]
  },
  {
   "cell_type": "code",
   "execution_count": 29,
   "metadata": {},
   "outputs": [],
   "source": [
    "coord.request_stop()\n",
    "coord.join(threads)"
   ]
  },
  {
   "cell_type": "code",
   "execution_count": 30,
   "metadata": {},
   "outputs": [],
   "source": [
    "sess.close()"
   ]
  },
  {
   "cell_type": "code",
   "execution_count": null,
   "metadata": {},
   "outputs": [],
   "source": []
  }
 ],
 "metadata": {
  "kernelspec": {
   "display_name": "Python 3",
   "language": "python",
   "name": "python3"
  },
  "language_info": {
   "codemirror_mode": {
    "name": "ipython",
    "version": 3
   },
   "file_extension": ".py",
   "mimetype": "text/x-python",
   "name": "python",
   "nbconvert_exporter": "python",
   "pygments_lexer": "ipython3",
   "version": "3.7.3"
  }
 },
 "nbformat": 4,
 "nbformat_minor": 4
}