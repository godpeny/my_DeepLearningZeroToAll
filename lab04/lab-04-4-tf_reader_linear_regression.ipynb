{
 "cells": [
  {
   "cell_type": "code",
   "execution_count": 1,
   "metadata": {},
   "outputs": [
    {
     "output_type": "stream",
     "name": "stdout",
     "text": [
      "WARNING:tensorflow:From /Users/kakao/Library/Python/3.7/lib/python/site-packages/tensorflow/python/compat/v2_compat.py:96: disable_resource_variables (from tensorflow.python.ops.variable_scope) is deprecated and will be removed in a future version.\nInstructions for updating:\nnon-resource variables are not supported in the long term\n"
     ]
    },
    {
     "output_type": "execute_result",
     "data": {
      "text/plain": [
       "'2.4.0'"
      ]
     },
     "metadata": {},
     "execution_count": 1
    }
   ],
   "source": [
    "import tensorflow.compat.v1 as tf\n",
    "tf.disable_v2_behavior()\n",
    "tf.__version__"
   ]
  },
  {
   "cell_type": "code",
   "execution_count": 2,
   "metadata": {},
   "outputs": [
    {
     "output_type": "stream",
     "name": "stdout",
     "text": [
      "WARNING:tensorflow:From <ipython-input-2-49adb6f27371>:2: string_input_producer (from tensorflow.python.training.input) is deprecated and will be removed in a future version.\n",
      "Instructions for updating:\n",
      "Queue-based input pipelines have been replaced by `tf.data`. Use `tf.data.Dataset.from_tensor_slices(string_tensor).shuffle(tf.shape(input_tensor, out_type=tf.int64)[0]).repeat(num_epochs)`. If `shuffle=False`, omit the `.shuffle(...)`.\n",
      "WARNING:tensorflow:From /Users/kakao/Library/Python/3.7/lib/python/site-packages/tensorflow/python/training/input.py:277: input_producer (from tensorflow.python.training.input) is deprecated and will be removed in a future version.\n",
      "Instructions for updating:\n",
      "Queue-based input pipelines have been replaced by `tf.data`. Use `tf.data.Dataset.from_tensor_slices(input_tensor).shuffle(tf.shape(input_tensor, out_type=tf.int64)[0]).repeat(num_epochs)`. If `shuffle=False`, omit the `.shuffle(...)`.\n",
      "WARNING:tensorflow:From /Users/kakao/Library/Python/3.7/lib/python/site-packages/tensorflow/python/training/input.py:189: limit_epochs (from tensorflow.python.training.input) is deprecated and will be removed in a future version.\n",
      "Instructions for updating:\n",
      "Queue-based input pipelines have been replaced by `tf.data`. Use `tf.data.Dataset.from_tensors(tensor).repeat(num_epochs)`.\n",
      "WARNING:tensorflow:From /Users/kakao/Library/Python/3.7/lib/python/site-packages/tensorflow/python/training/input.py:198: QueueRunner.__init__ (from tensorflow.python.training.queue_runner_impl) is deprecated and will be removed in a future version.\n",
      "Instructions for updating:\n",
      "To construct input pipelines, use the `tf.data` module.\n",
      "WARNING:tensorflow:From /Users/kakao/Library/Python/3.7/lib/python/site-packages/tensorflow/python/training/input.py:198: add_queue_runner (from tensorflow.python.training.queue_runner_impl) is deprecated and will be removed in a future version.\n",
      "Instructions for updating:\n",
      "To construct input pipelines, use the `tf.data` module.\n"
     ]
    }
   ],
   "source": [
    "filename_queue = tf.train.string_input_producer(\n",
    "    ['data-01-test-score.csv'], shuffle=False, name='filename_queue')"
   ]
  },
  {
   "cell_type": "code",
   "execution_count": 3,
   "metadata": {},
   "outputs": [
    {
     "output_type": "stream",
     "name": "stdout",
     "text": [
      "WARNING:tensorflow:From <ipython-input-3-db7e6a4db4c9>:2: TextLineReader.__init__ (from tensorflow.python.ops.io_ops) is deprecated and will be removed in a future version.\nInstructions for updating:\nQueue-based input pipelines have been replaced by `tf.data`. Use `tf.data.TextLineDataset`.\n"
     ]
    }
   ],
   "source": [
    "# define reader\n",
    "reader = tf.TextLineReader()\n",
    "key, value = reader.read(filename_queue)\n",
    "\n",
    "# Default values, in case of empty columns. Also specifies the type of the\n",
    "# decoded result.\n",
    "record_defaults = [[0.],[0.], [0.], [0.]]\n",
    "xy = tf.decode_csv(value, record_defaults=record_defaults)"
   ]
  },
  {
   "cell_type": "code",
   "execution_count": 4,
   "metadata": {},
   "outputs": [
    {
     "output_type": "stream",
     "name": "stdout",
     "text": [
      "WARNING:tensorflow:From <ipython-input-4-9fdb5b745d15>:2: batch (from tensorflow.python.training.input) is deprecated and will be removed in a future version.\nInstructions for updating:\nQueue-based input pipelines have been replaced by `tf.data`. Use `tf.data.Dataset.batch(batch_size)` (or `padded_batch(...)` if `dynamic_pad=True`).\n"
     ]
    }
   ],
   "source": [
    "# collect batches of csv\n",
    "train_x_batch, train_y_batch = tf.train.batch([xy[0:-1], xy[-1:]], batch_size=10)"
   ]
  },
  {
   "cell_type": "code",
   "execution_count": 5,
   "metadata": {},
   "outputs": [],
   "source": [
    "# placeholders for a tensor that will be always fed.\n",
    "X = tf.placeholder(tf.float32, shape=[None, 3])\n",
    "Y = tf.placeholder(tf.float32, shape=[None, 1])\n",
    "\n",
    "W = tf.Variable(tf.random_normal([3, 1]), name='weight')\n",
    "b = tf.Variable(tf.random_normal([1]), name='bias')"
   ]
  },
  {
   "cell_type": "code",
   "execution_count": 6,
   "metadata": {},
   "outputs": [],
   "source": [
    "# Hypothesis\n",
    "hypothesis = tf.matmul(X, W) + b\n",
    "\n",
    "# cost/loss function\n",
    "cost = tf.reduce_mean(tf.square(hypothesis - Y))\n",
    "\n",
    "# Minimize. Need a very small learning rate for this data set\n",
    "optimizer = tf.train.GradientDescentOptimizer(learning_rate=1e-5)\n",
    "train = optimizer.minimize(cost)"
   ]
  },
  {
   "cell_type": "code",
   "execution_count": 7,
   "metadata": {},
   "outputs": [],
   "source": [
    "# Launch the graph in a session.\n",
    "sess = tf.Session()\n",
    "# Initializes global variables in the graph.\n",
    "sess.run(tf.global_variables_initializer())"
   ]
  },
  {
   "cell_type": "code",
   "execution_count": 8,
   "metadata": {},
   "outputs": [
    {
     "output_type": "stream",
     "name": "stdout",
     "text": [
      "WARNING:tensorflow:From <ipython-input-8-c3fb6c52bbcd>:3: start_queue_runners (from tensorflow.python.training.queue_runner_impl) is deprecated and will be removed in a future version.\nInstructions for updating:\nTo construct input pipelines, use the `tf.data` module.\n"
     ]
    }
   ],
   "source": [
    "# Start populating the filename queue.\n",
    "coord = tf.train.Coordinator()\n",
    "threads = tf.train.start_queue_runners(sess=sess, coord=coord)"
   ]
  },
  {
   "cell_type": "code",
   "execution_count": 9,
   "metadata": {},
   "outputs": [
    {
     "output_type": "stream",
     "name": "stdout",
     "text": [
      "0 Cost:  21176.459 \n",
      "Prediction:\n",
      " [[ 2.1562152]\n",
      " [19.651169 ]\n",
      " [10.649282 ]\n",
      " [12.414448 ]\n",
      " [18.233244 ]\n",
      " [16.058672 ]\n",
      " [ 5.2259107]\n",
      " [-2.1672282]\n",
      " [22.987425 ]\n",
      " [24.18697  ]]\n",
      "100 Cost:  70.068275 \n",
      "Prediction:\n",
      " [[146.37837 ]\n",
      " [192.54028 ]\n",
      " [181.23323 ]\n",
      " [198.19014 ]\n",
      " [149.97948 ]\n",
      " [113.132126]\n",
      " [144.40796 ]\n",
      " [101.19841 ]\n",
      " [184.45583 ]\n",
      " [173.6986  ]]\n",
      "200 Cost:  66.353966 \n",
      "Prediction:\n",
      " [[146.59418]\n",
      " [192.33467]\n",
      " [181.27087]\n",
      " [198.22357]\n",
      " [149.71336]\n",
      " [112.87002]\n",
      " [144.55234]\n",
      " [101.48604]\n",
      " [184.1466 ]\n",
      " [173.354  ]]\n",
      "300 Cost:  62.85966 \n",
      "Prediction:\n",
      " [[146.80264]\n",
      " [192.13524]\n",
      " [181.30678]\n",
      " [198.25632]\n",
      " [149.45464]\n",
      " [112.61698]\n",
      " [144.69382]\n",
      " [101.76773]\n",
      " [183.84816]\n",
      " [173.0234 ]]\n",
      "400 Cost:  59.571312 \n",
      "Prediction:\n",
      " [[147.00406]\n",
      " [191.94176]\n",
      " [181.34102]\n",
      " [198.28842]\n",
      " [149.20311]\n",
      " [112.3727 ]\n",
      " [144.83243]\n",
      " [102.04359]\n",
      " [183.55998]\n",
      " [172.70613]]\n",
      "500 Cost:  56.47632 \n",
      "Prediction:\n",
      " [[147.19868 ]\n",
      " [191.75404 ]\n",
      " [181.37367 ]\n",
      " [198.31984 ]\n",
      " [148.95856 ]\n",
      " [112.13684 ]\n",
      " [144.96823 ]\n",
      " [102.313675]\n",
      " [183.28177 ]\n",
      " [172.40169 ]]\n",
      "600 Cost:  53.562366 \n",
      "Prediction:\n",
      " [[147.38673]\n",
      " [191.5719 ]\n",
      " [181.40479]\n",
      " [198.35062]\n",
      " [148.72076]\n",
      " [111.90908]\n",
      " [145.10126]\n",
      " [102.57813]\n",
      " [183.01309]\n",
      " [172.10947]]\n",
      "700 Cost:  50.818443 \n",
      "Prediction:\n",
      " [[147.56851]\n",
      " [191.39516]\n",
      " [181.43448]\n",
      " [198.38074]\n",
      " [148.48956]\n",
      " [111.68912]\n",
      " [145.23157]\n",
      " [102.83701]\n",
      " [182.7536 ]\n",
      " [171.82901]]\n",
      "800 Cost:  48.234062 \n",
      "Prediction:\n",
      " [[147.74417]\n",
      " [191.22363]\n",
      " [181.46278]\n",
      " [198.41023]\n",
      " [148.26471]\n",
      " [111.47668]\n",
      " [145.35915]\n",
      " [103.09043]\n",
      " [182.50296]\n",
      " [171.5598 ]]\n",
      "900 Cost:  45.799393 \n",
      "Prediction:\n",
      " [[147.914   ]\n",
      " [191.05717 ]\n",
      " [181.48976 ]\n",
      " [198.43913 ]\n",
      " [148.04607 ]\n",
      " [111.271454]\n",
      " [145.48412 ]\n",
      " [103.33848 ]\n",
      " [182.26085 ]\n",
      " [171.30139 ]]\n",
      "1000 Cost:  43.505264 \n",
      "Prediction:\n",
      " [[148.07819]\n",
      " [190.89558]\n",
      " [181.51549]\n",
      " [198.4674 ]\n",
      " [147.83342]\n",
      " [111.07321]\n",
      " [145.60646]\n",
      " [103.58125]\n",
      " [182.02696]\n",
      " [171.05328]]\n",
      "1100 Cost:  41.3433 \n",
      "Prediction:\n",
      " [[148.23694]\n",
      " [190.73877]\n",
      " [181.54004]\n",
      " [198.49509]\n",
      " [147.62663]\n",
      " [110.88168]\n",
      " [145.72626]\n",
      " [103.81885]\n",
      " [181.801  ]\n",
      " [170.81512]]\n",
      "1200 Cost:  39.305218 \n",
      "Prediction:\n",
      " [[148.39043 ]\n",
      " [190.58652 ]\n",
      " [181.5634  ]\n",
      " [198.52217 ]\n",
      " [147.42546 ]\n",
      " [110.696594]\n",
      " [145.84352 ]\n",
      " [104.051315]\n",
      " [181.58263 ]\n",
      " [170.58641 ]]\n",
      "1300 Cost:  37.38372 \n",
      "Prediction:\n",
      " [[148.53886]\n",
      " [190.43874]\n",
      " [181.58571]\n",
      " [198.54869]\n",
      " [147.22983]\n",
      " [110.51774]\n",
      " [145.95833]\n",
      " [104.2788 ]\n",
      " [181.3716 ]\n",
      " [170.36679]]\n",
      "1400 Cost:  35.571735 \n",
      "Prediction:\n",
      " [[148.68243 ]\n",
      " [190.29523 ]\n",
      " [181.60695 ]\n",
      " [198.57465 ]\n",
      " [147.0395  ]\n",
      " [110.344894]\n",
      " [146.07068 ]\n",
      " [104.50138 ]\n",
      " [181.16766 ]\n",
      " [170.15588 ]]\n",
      "1500 Cost:  33.862705 \n",
      "Prediction:\n",
      " [[148.82129 ]\n",
      " [190.1559  ]\n",
      " [181.62718 ]\n",
      " [198.60002 ]\n",
      " [146.85439 ]\n",
      " [110.17782 ]\n",
      " [146.18065 ]\n",
      " [104.719124]\n",
      " [180.9705  ]\n",
      " [169.95334 ]]\n",
      "1600 Cost:  32.25049 \n",
      "Prediction:\n",
      " [[148.95563]\n",
      " [190.02061]\n",
      " [181.64648]\n",
      " [198.62485]\n",
      " [146.67429]\n",
      " [110.01632]\n",
      " [146.28827]\n",
      " [104.93215]\n",
      " [180.77994]\n",
      " [169.75879]]\n",
      "1700 Cost:  30.729435 \n",
      "Prediction:\n",
      " [[149.08557 ]\n",
      " [189.88925 ]\n",
      " [181.66489 ]\n",
      " [198.64917 ]\n",
      " [146.49908 ]\n",
      " [109.860176]\n",
      " [146.39359 ]\n",
      " [105.14051 ]\n",
      " [180.5957  ]\n",
      " [169.57193 ]]\n",
      "1800 Cost:  29.29401 \n",
      "Prediction:\n",
      " [[149.21135]\n",
      " [189.76167]\n",
      " [181.68243]\n",
      " [198.67296]\n",
      " [146.32864]\n",
      " [109.70922]\n",
      " [146.49666]\n",
      " [105.34433]\n",
      " [180.41757]\n",
      " [169.39243]]\n",
      "1900 Cost:  27.939081 \n",
      "Prediction:\n",
      " [[149.33301 ]\n",
      " [189.63773 ]\n",
      " [181.69913 ]\n",
      " [198.6962  ]\n",
      " [146.16278 ]\n",
      " [109.563225]\n",
      " [146.59747 ]\n",
      " [105.54366 ]\n",
      " [180.2453  ]\n",
      " [169.21994 ]]\n",
      "2000 Cost:  26.660145 \n",
      "Prediction:\n",
      " [[149.45076]\n",
      " [189.51736]\n",
      " [181.71504]\n",
      " [198.71895]\n",
      " [146.00142]\n",
      " [109.42205]\n",
      " [146.6961 ]\n",
      " [105.73861]\n",
      " [180.0787 ]\n",
      " [169.05424]]\n"
     ]
    }
   ],
   "source": [
    "for step in range(2001):\n",
    "    x_batch, y_batch = sess.run([train_x_batch, train_y_batch])\n",
    "    cost_val, hy_val, _ = sess.run(\n",
    "        [cost, hypothesis, train], feed_dict={X: x_batch, Y: y_batch})\n",
    "    if step % 100 == 0:\n",
    "        print(step, \"Cost: \", cost_val, \"\\nPrediction:\\n\", hy_val)"
   ]
  },
  {
   "cell_type": "code",
   "execution_count": 10,
   "metadata": {},
   "outputs": [],
   "source": [
    "coord.request_stop()\n",
    "coord.join(threads)"
   ]
  },
  {
   "cell_type": "code",
   "execution_count": 11,
   "metadata": {},
   "outputs": [
    {
     "output_type": "stream",
     "name": "stdout",
     "text": [
      "Your score will be  [[205.65974]]\nOther scores will be  [[164.3172 ]\n [172.66882]]\n"
     ]
    }
   ],
   "source": [
    "# Ask my score\n",
    "print(\"Your score will be \",\n",
    "      sess.run(hypothesis, feed_dict={X: [[100, 70, 101]]}))\n",
    "\n",
    "print(\"Other scores will be \",\n",
    "      sess.run(hypothesis, feed_dict={X: [[60, 70, 110], [90, 100, 80]]}))"
   ]
  },
  {
   "cell_type": "code",
   "execution_count": 12,
   "metadata": {},
   "outputs": [],
   "source": [
    "sess.close()"
   ]
  }
 ],
 "metadata": {
  "kernelspec": {
   "display_name": "Python 3",
   "language": "python",
   "name": "python3"
  },
  "language_info": {
   "codemirror_mode": {
    "name": "ipython",
    "version": 3
   },
   "file_extension": ".py",
   "mimetype": "text/x-python",
   "name": "python",
   "nbconvert_exporter": "python",
   "pygments_lexer": "ipython3",
   "version": "3.7.3-final"
  }
 },
 "nbformat": 4,
 "nbformat_minor": 4
}