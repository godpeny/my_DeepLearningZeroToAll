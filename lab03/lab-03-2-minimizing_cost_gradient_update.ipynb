{
 "cells": [
  {
   "cell_type": "code",
   "execution_count": 31,
   "metadata": {},
   "outputs": [
    {
     "data": {
      "text/plain": [
       "'2.4.0'"
      ]
     },
     "execution_count": 31,
     "metadata": {},
     "output_type": "execute_result"
    }
   ],
   "source": [
    "import tensorflow.compat.v1 as tf\n",
    "tf.disable_v2_behavior()\n",
    "tf.__version__"
   ]
  },
  {
   "cell_type": "code",
   "execution_count": 32,
   "metadata": {},
   "outputs": [],
   "source": [
    "import matplotlib.pyplot as plt"
   ]
  },
  {
   "cell_type": "code",
   "execution_count": 33,
   "metadata": {},
   "outputs": [],
   "source": [
    "x_data = [1, 2, 3]\n",
    "y_data = [1, 2, 3]\n",
    "\n",
    "# Try to find values for W and b to compute y_data = W * x_data\n",
    "# We know that W should be 1\n",
    "# But let's use TensorFlow to figure it out\n",
    "W = tf.Variable(tf.random_normal([1]), name=\"weight\")\n",
    "\n",
    "X = tf.placeholder(tf.float32)\n",
    "Y = tf.placeholder(tf.float32)\n",
    "\n",
    "# Our hypothesis for linear model X * W\n",
    "hypothesis = X * W"
   ]
  },
  {
   "cell_type": "code",
   "execution_count": 34,
   "metadata": {},
   "outputs": [],
   "source": [
    "cost = tf.reduce_mean(tf.square(hypothesis - Y))"
   ]
  },
  {
   "cell_type": "code",
   "execution_count": 35,
   "metadata": {},
   "outputs": [],
   "source": [
    "# Minimize: Gradient Descent using derivative: W -= learning_rate * derivative\n",
    "learning_rate = 0.1\n",
    "gradient = tf.reduce_mean((W * X - Y) * X)\n",
    "descent = W - learning_rate * gradient\n",
    "update = W.assign(descent)"
   ]
  },
  {
   "cell_type": "code",
   "execution_count": 36,
   "metadata": {},
   "outputs": [],
   "source": [
    "sess = tf.Session()\n",
    "sess.run(tf.global_variables_initializer())"
   ]
  },
  {
   "cell_type": "code",
   "execution_count": 37,
   "metadata": {},
   "outputs": [],
   "source": [
    "W_history = []\n",
    "cost_history = []"
   ]
  },
  {
   "cell_type": "code",
   "execution_count": 38,
   "metadata": {},
   "outputs": [
    {
     "name": "stdout",
     "output_type": "stream",
     "text": [
      "0 11.217387 [1.8268774]\n",
      "1 3.1907215 [1.4410013]\n",
      "2 0.90758324 [1.2352006]\n",
      "3 0.25815693 [1.1254404]\n",
      "4 0.07343132 [1.0669016]\n",
      "5 0.020887142 [1.0356809]\n",
      "6 0.0059412625 [1.0190299]\n",
      "7 0.0016899653 [1.0101492]\n",
      "8 0.00048069973 [1.0054129]\n",
      "9 0.00013673147 [1.0028869]\n",
      "10 3.889335e-05 [1.0015397]\n",
      "11 1.1063258e-05 [1.0008212]\n",
      "12 3.1475045e-06 [1.000438]\n",
      "13 8.951695e-07 [1.0002335]\n",
      "14 2.5444905e-07 [1.0001246]\n",
      "15 7.244988e-08 [1.0000664]\n",
      "16 2.0590718e-08 [1.0000354]\n",
      "17 5.858231e-09 [1.0000188]\n",
      "18 1.6555456e-09 [1.00001]\n",
      "19 4.67935e-10 [1.0000054]\n",
      "20 1.3557629e-10 [1.0000029]\n"
     ]
    }
   ],
   "source": [
    "for step in range(21):\n",
    "    _, cost_val, W_val = sess.run(\n",
    "        [update, cost, W], feed_dict={X: x_data, Y: y_data}\n",
    "    )\n",
    "    print(step, cost_val, W_val)"
   ]
  }
 ],
 "metadata": {
  "kernelspec": {
   "display_name": "Python 3",
   "language": "python",
   "name": "python3"
  },
  "language_info": {
   "codemirror_mode": {
    "name": "ipython",
    "version": 3
   },
   "file_extension": ".py",
   "mimetype": "text/x-python",
   "name": "python",
   "nbconvert_exporter": "python",
   "pygments_lexer": "ipython3",
   "version": "3.7.3"
  }
 },
 "nbformat": 4,
 "nbformat_minor": 4
}
